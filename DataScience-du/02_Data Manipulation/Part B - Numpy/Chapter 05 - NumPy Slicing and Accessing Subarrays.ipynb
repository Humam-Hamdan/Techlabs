{
 "cells": [
  {
   "cell_type": "code",
   "execution_count": null,
   "id": "b29c306a",
   "metadata": {},
   "outputs": [],
   "source": [
    "# RUN THIS COMMAND ONLY IF YOU USE GOOGLE COLAB.\n",
    "from google.colab import drive\n",
    "drive.mount('/content/drive')"
   ]
  },
  {
   "cell_type": "code",
   "execution_count": null,
   "id": "d611f4fe",
   "metadata": {},
   "outputs": [],
   "source": [
    "# RUN THIS COMMAND ONLY IF YOU USE GOOGLE COLAB.\n",
    "%cd drive/MyDrive/TechLabs/02_Data\\ Manipulation/Part\\ B\\ -\\ Numpy"
   ]
  },
  {
   "cell_type": "code",
   "execution_count": null,
   "id": "5a1125b9",
   "metadata": {},
   "outputs": [],
   "source": [
    "# ALWAYS IMPORT NUMPY FIRST.\n",
    "import numpy as np"
   ]
  },
  {
   "cell_type": "markdown",
   "id": "5b0b76d6",
   "metadata": {},
   "source": [
    "# Chapter 5 - NumPy Slicing and Accessing Subarrays\n",
    "### Hey Techie,   \n",
    "Welcome to the fifth notebook of this Numpy tutorial series. We encourage you to take this notebook as a template to code along the instruction video, which you may find at: https://youtu.be/01kOJUiiEQE. Today's video explains how to access subarrays. In the end, please try to solve the presented tasks. In case you are interested, you find a complete walk through the tasks at: https://youtu.be/STJA-D-K9Cs. \n",
    "\n",
    "#### Have fun! :-)   \n",
    "*Video length in total*: 26 minutes   \n",
    "*Self-study time*: 26 minutes   \n",
    "*Total*: **52 minutes**   \n",
    "#### Credits\n",
    "Complete Python Numpy Tutorial for Beginners, Nate at StrataScratch, https://www.youtube.com/channel/UCW8Ews7tdKKkBT6GdtQaXvQ.\n",
    "<hr style=\"border:2px solid gray\"> </hr>   "
   ]
  },
  {
   "cell_type": "markdown",
   "id": "0e839909",
   "metadata": {
    "colab_type": "text",
    "id": "mSF3UgWhcuKU"
   },
   "source": [
    "## Array Slicing: Accessing Subarrays"
   ]
  },
  {
   "cell_type": "markdown",
   "id": "463676e4",
   "metadata": {
    "colab_type": "text",
    "id": "xvSLPxdhcuKV"
   },
   "source": [
    "Just as we can use square brackets to access individual array elements, we can also use them to access subarrays with the *slice* notation, marked by the colon (``:``) character.\n",
    "The NumPy slicing syntax follows that of the standard Python list; to access a slice of an array ``x``, use this:\n",
    "``` python\n",
    "x[start:stop:step]\n",
    "```\n",
    "If any of these are unspecified, they default to the values ``start=0``, ``stop=``*``size of dimension``*, ``step=1``.\n",
    "We'll take a look at accessing sub-arrays in one dimension and in multiple dimensions."
   ]
  },
  {
   "cell_type": "markdown",
   "id": "48374398",
   "metadata": {
    "colab_type": "text",
    "id": "lii8RuFIcuKV"
   },
   "source": [
    "### One-dimensional subarrays"
   ]
  },
  {
   "cell_type": "code",
   "execution_count": null,
   "id": "7ed03cd2",
   "metadata": {
    "colab": {
     "base_uri": "https://localhost:8080/"
    },
    "colab_type": "code",
    "executionInfo": {
     "elapsed": 2907,
     "status": "ok",
     "timestamp": 1593989686242,
     "user": {
      "displayName": "StrataScratch Team",
      "photoUrl": "https://lh3.googleusercontent.com/a-/AOh14GiGK63dtW9acM3jHkRfj4-UOzVsKLa-kgNxbCK8a4jqcDOb1j9M8lxSiEHAqWgAkHg7ba24OUjUnZd-SZqErlj2EIwbpqiuMApVBC4j-VTn5geFXVLj6pwNrVCYt1er_lVA_47-cqOy7jE5Rk8U_kIEk6C8kmdRru20cUkylWnYkKYBVXplxIBmvvemTvz5YRQxbgxOWLecE41ZTt6gMCo22i_9RBn4Trle7Qe5TGkpvUfu8AoVjWS-c3m2tR4gOYsGI9IrLF7YkN3yTS8_fOPGFkHmCMAV0SqUmv1cYjhWRxBrTMjGiAHV2PUfxvKoFKfketXUNG5yyBuHMKxV0bIc8gWil3Fx9_tl4Vwx-4bsBlEErQxe9JetDn_OJA_BpkDPGbQRYAhvjbll0PQjJUtuvOKfgyYWwq6RPG6ZBrcoGLE-N87otH1q6HoBsWFp64Nb3f0I9iGjk5u_dCnuscJ1B0uNt-Kk6Cqly6sae6rujILmXYg6A9dpf7Ab_GlQ5EjP3FJyYH2Qlyrd4FFCQUFbT-hAn7EcS7IKhsGrc3PKtMUktJmqoA-hWJFAbEFhp3xuM2qjp5dgv-r_FxJHs2t-RVhCBum9Con9_jvjokRxiAgA1XhQdF0SXA7HV-yyjs9Si7uHUNutnHCqFMNSsUpWW4TPz8OwuKVauJwhDYZLjOTtxKVzvNmm0oS9U_KoSHKZMwO0OsC7JfiMzlbAD38fS-tj3_fc8RmX29JxOgop0w30OBG9xUywfb1FGuEb5A=s64",
      "userId": "17044389388162035463"
     },
     "user_tz": 420
    },
    "id": "HY6kQJTNcuKW",
    "outputId": "920587cd-7db9-4dd1-84ed-2d521d331b5c"
   },
   "outputs": [],
   "source": [
    "x = np.arange(10,20)\n",
    "x"
   ]
  },
  {
   "cell_type": "code",
   "execution_count": null,
   "id": "f4e90282",
   "metadata": {
    "colab": {
     "base_uri": "https://localhost:8080/"
    },
    "colab_type": "code",
    "executionInfo": {
     "elapsed": 2908,
     "status": "ok",
     "timestamp": 1593989686248,
     "user": {
      "displayName": "StrataScratch Team",
      "photoUrl": "https://lh3.googleusercontent.com/a-/AOh14GiGK63dtW9acM3jHkRfj4-UOzVsKLa-kgNxbCK8a4jqcDOb1j9M8lxSiEHAqWgAkHg7ba24OUjUnZd-SZqErlj2EIwbpqiuMApVBC4j-VTn5geFXVLj6pwNrVCYt1er_lVA_47-cqOy7jE5Rk8U_kIEk6C8kmdRru20cUkylWnYkKYBVXplxIBmvvemTvz5YRQxbgxOWLecE41ZTt6gMCo22i_9RBn4Trle7Qe5TGkpvUfu8AoVjWS-c3m2tR4gOYsGI9IrLF7YkN3yTS8_fOPGFkHmCMAV0SqUmv1cYjhWRxBrTMjGiAHV2PUfxvKoFKfketXUNG5yyBuHMKxV0bIc8gWil3Fx9_tl4Vwx-4bsBlEErQxe9JetDn_OJA_BpkDPGbQRYAhvjbll0PQjJUtuvOKfgyYWwq6RPG6ZBrcoGLE-N87otH1q6HoBsWFp64Nb3f0I9iGjk5u_dCnuscJ1B0uNt-Kk6Cqly6sae6rujILmXYg6A9dpf7Ab_GlQ5EjP3FJyYH2Qlyrd4FFCQUFbT-hAn7EcS7IKhsGrc3PKtMUktJmqoA-hWJFAbEFhp3xuM2qjp5dgv-r_FxJHs2t-RVhCBum9Con9_jvjokRxiAgA1XhQdF0SXA7HV-yyjs9Si7uHUNutnHCqFMNSsUpWW4TPz8OwuKVauJwhDYZLjOTtxKVzvNmm0oS9U_KoSHKZMwO0OsC7JfiMzlbAD38fS-tj3_fc8RmX29JxOgop0w30OBG9xUywfb1FGuEb5A=s64",
      "userId": "17044389388162035463"
     },
     "user_tz": 420
    },
    "id": "4QZwDOoBcuKY",
    "outputId": "5aafb0e0-5c70-48cc-def8-a9cbcd6c5f40"
   },
   "outputs": [],
   "source": [
    "x[:5]  # first five elements"
   ]
  },
  {
   "cell_type": "code",
   "execution_count": null,
   "id": "5714d720",
   "metadata": {
    "colab": {
     "base_uri": "https://localhost:8080/"
    },
    "colab_type": "code",
    "executionInfo": {
     "elapsed": 2906,
     "status": "ok",
     "timestamp": 1593989686251,
     "user": {
      "displayName": "StrataScratch Team",
      "photoUrl": "https://lh3.googleusercontent.com/a-/AOh14GiGK63dtW9acM3jHkRfj4-UOzVsKLa-kgNxbCK8a4jqcDOb1j9M8lxSiEHAqWgAkHg7ba24OUjUnZd-SZqErlj2EIwbpqiuMApVBC4j-VTn5geFXVLj6pwNrVCYt1er_lVA_47-cqOy7jE5Rk8U_kIEk6C8kmdRru20cUkylWnYkKYBVXplxIBmvvemTvz5YRQxbgxOWLecE41ZTt6gMCo22i_9RBn4Trle7Qe5TGkpvUfu8AoVjWS-c3m2tR4gOYsGI9IrLF7YkN3yTS8_fOPGFkHmCMAV0SqUmv1cYjhWRxBrTMjGiAHV2PUfxvKoFKfketXUNG5yyBuHMKxV0bIc8gWil3Fx9_tl4Vwx-4bsBlEErQxe9JetDn_OJA_BpkDPGbQRYAhvjbll0PQjJUtuvOKfgyYWwq6RPG6ZBrcoGLE-N87otH1q6HoBsWFp64Nb3f0I9iGjk5u_dCnuscJ1B0uNt-Kk6Cqly6sae6rujILmXYg6A9dpf7Ab_GlQ5EjP3FJyYH2Qlyrd4FFCQUFbT-hAn7EcS7IKhsGrc3PKtMUktJmqoA-hWJFAbEFhp3xuM2qjp5dgv-r_FxJHs2t-RVhCBum9Con9_jvjokRxiAgA1XhQdF0SXA7HV-yyjs9Si7uHUNutnHCqFMNSsUpWW4TPz8OwuKVauJwhDYZLjOTtxKVzvNmm0oS9U_KoSHKZMwO0OsC7JfiMzlbAD38fS-tj3_fc8RmX29JxOgop0w30OBG9xUywfb1FGuEb5A=s64",
      "userId": "17044389388162035463"
     },
     "user_tz": 420
    },
    "id": "_OOgvRuXcuKa",
    "outputId": "87faa090-5bbd-43b8-98b8-b15dc4d70677"
   },
   "outputs": [],
   "source": [
    "x[5:10:1]  # elements after index 5"
   ]
  },
  {
   "cell_type": "code",
   "execution_count": null,
   "id": "699e7de6",
   "metadata": {
    "colab": {
     "base_uri": "https://localhost:8080/"
    },
    "colab_type": "code",
    "executionInfo": {
     "elapsed": 2918,
     "status": "ok",
     "timestamp": 1593989686268,
     "user": {
      "displayName": "StrataScratch Team",
      "photoUrl": "https://lh3.googleusercontent.com/a-/AOh14GiGK63dtW9acM3jHkRfj4-UOzVsKLa-kgNxbCK8a4jqcDOb1j9M8lxSiEHAqWgAkHg7ba24OUjUnZd-SZqErlj2EIwbpqiuMApVBC4j-VTn5geFXVLj6pwNrVCYt1er_lVA_47-cqOy7jE5Rk8U_kIEk6C8kmdRru20cUkylWnYkKYBVXplxIBmvvemTvz5YRQxbgxOWLecE41ZTt6gMCo22i_9RBn4Trle7Qe5TGkpvUfu8AoVjWS-c3m2tR4gOYsGI9IrLF7YkN3yTS8_fOPGFkHmCMAV0SqUmv1cYjhWRxBrTMjGiAHV2PUfxvKoFKfketXUNG5yyBuHMKxV0bIc8gWil3Fx9_tl4Vwx-4bsBlEErQxe9JetDn_OJA_BpkDPGbQRYAhvjbll0PQjJUtuvOKfgyYWwq6RPG6ZBrcoGLE-N87otH1q6HoBsWFp64Nb3f0I9iGjk5u_dCnuscJ1B0uNt-Kk6Cqly6sae6rujILmXYg6A9dpf7Ab_GlQ5EjP3FJyYH2Qlyrd4FFCQUFbT-hAn7EcS7IKhsGrc3PKtMUktJmqoA-hWJFAbEFhp3xuM2qjp5dgv-r_FxJHs2t-RVhCBum9Con9_jvjokRxiAgA1XhQdF0SXA7HV-yyjs9Si7uHUNutnHCqFMNSsUpWW4TPz8OwuKVauJwhDYZLjOTtxKVzvNmm0oS9U_KoSHKZMwO0OsC7JfiMzlbAD38fS-tj3_fc8RmX29JxOgop0w30OBG9xUywfb1FGuEb5A=s64",
      "userId": "17044389388162035463"
     },
     "user_tz": 420
    },
    "id": "vpx_bV6PcuKc",
    "outputId": "d39d2ba6-8479-4953-8f3e-bc57ff870535"
   },
   "outputs": [],
   "source": [
    "x[4:7]  # middle sub-array"
   ]
  },
  {
   "cell_type": "code",
   "execution_count": null,
   "id": "06ccc230",
   "metadata": {
    "colab": {
     "base_uri": "https://localhost:8080/"
    },
    "colab_type": "code",
    "executionInfo": {
     "elapsed": 2915,
     "status": "ok",
     "timestamp": 1593989686269,
     "user": {
      "displayName": "StrataScratch Team",
      "photoUrl": "https://lh3.googleusercontent.com/a-/AOh14GiGK63dtW9acM3jHkRfj4-UOzVsKLa-kgNxbCK8a4jqcDOb1j9M8lxSiEHAqWgAkHg7ba24OUjUnZd-SZqErlj2EIwbpqiuMApVBC4j-VTn5geFXVLj6pwNrVCYt1er_lVA_47-cqOy7jE5Rk8U_kIEk6C8kmdRru20cUkylWnYkKYBVXplxIBmvvemTvz5YRQxbgxOWLecE41ZTt6gMCo22i_9RBn4Trle7Qe5TGkpvUfu8AoVjWS-c3m2tR4gOYsGI9IrLF7YkN3yTS8_fOPGFkHmCMAV0SqUmv1cYjhWRxBrTMjGiAHV2PUfxvKoFKfketXUNG5yyBuHMKxV0bIc8gWil3Fx9_tl4Vwx-4bsBlEErQxe9JetDn_OJA_BpkDPGbQRYAhvjbll0PQjJUtuvOKfgyYWwq6RPG6ZBrcoGLE-N87otH1q6HoBsWFp64Nb3f0I9iGjk5u_dCnuscJ1B0uNt-Kk6Cqly6sae6rujILmXYg6A9dpf7Ab_GlQ5EjP3FJyYH2Qlyrd4FFCQUFbT-hAn7EcS7IKhsGrc3PKtMUktJmqoA-hWJFAbEFhp3xuM2qjp5dgv-r_FxJHs2t-RVhCBum9Con9_jvjokRxiAgA1XhQdF0SXA7HV-yyjs9Si7uHUNutnHCqFMNSsUpWW4TPz8OwuKVauJwhDYZLjOTtxKVzvNmm0oS9U_KoSHKZMwO0OsC7JfiMzlbAD38fS-tj3_fc8RmX29JxOgop0w30OBG9xUywfb1FGuEb5A=s64",
      "userId": "17044389388162035463"
     },
     "user_tz": 420
    },
    "id": "lrAv532lcuKj",
    "outputId": "2ed09f11-eec3-4398-9353-170332d9092a"
   },
   "outputs": [],
   "source": [
    "x[::2]  # every other element"
   ]
  },
  {
   "cell_type": "code",
   "execution_count": null,
   "id": "3bd9d258",
   "metadata": {
    "colab": {
     "base_uri": "https://localhost:8080/"
    },
    "colab_type": "code",
    "executionInfo": {
     "elapsed": 2923,
     "status": "ok",
     "timestamp": 1593989686281,
     "user": {
      "displayName": "StrataScratch Team",
      "photoUrl": "https://lh3.googleusercontent.com/a-/AOh14GiGK63dtW9acM3jHkRfj4-UOzVsKLa-kgNxbCK8a4jqcDOb1j9M8lxSiEHAqWgAkHg7ba24OUjUnZd-SZqErlj2EIwbpqiuMApVBC4j-VTn5geFXVLj6pwNrVCYt1er_lVA_47-cqOy7jE5Rk8U_kIEk6C8kmdRru20cUkylWnYkKYBVXplxIBmvvemTvz5YRQxbgxOWLecE41ZTt6gMCo22i_9RBn4Trle7Qe5TGkpvUfu8AoVjWS-c3m2tR4gOYsGI9IrLF7YkN3yTS8_fOPGFkHmCMAV0SqUmv1cYjhWRxBrTMjGiAHV2PUfxvKoFKfketXUNG5yyBuHMKxV0bIc8gWil3Fx9_tl4Vwx-4bsBlEErQxe9JetDn_OJA_BpkDPGbQRYAhvjbll0PQjJUtuvOKfgyYWwq6RPG6ZBrcoGLE-N87otH1q6HoBsWFp64Nb3f0I9iGjk5u_dCnuscJ1B0uNt-Kk6Cqly6sae6rujILmXYg6A9dpf7Ab_GlQ5EjP3FJyYH2Qlyrd4FFCQUFbT-hAn7EcS7IKhsGrc3PKtMUktJmqoA-hWJFAbEFhp3xuM2qjp5dgv-r_FxJHs2t-RVhCBum9Con9_jvjokRxiAgA1XhQdF0SXA7HV-yyjs9Si7uHUNutnHCqFMNSsUpWW4TPz8OwuKVauJwhDYZLjOTtxKVzvNmm0oS9U_KoSHKZMwO0OsC7JfiMzlbAD38fS-tj3_fc8RmX29JxOgop0w30OBG9xUywfb1FGuEb5A=s64",
      "userId": "17044389388162035463"
     },
     "user_tz": 420
    },
    "id": "UcpThyAycuKl",
    "outputId": "37ab07eb-338f-458b-cbf2-87ce56bdd84b"
   },
   "outputs": [],
   "source": [
    "x[1::2]  # every other element, starting at index 1"
   ]
  },
  {
   "cell_type": "markdown",
   "id": "2943e8e1",
   "metadata": {
    "colab_type": "text",
    "id": "Lvpj2gNScuKn"
   },
   "source": [
    "A potentially confusing case is when the ``step`` value is negative.\n",
    "In this case, the defaults for ``start`` and ``stop`` are swapped.\n",
    "This becomes a convenient way to reverse an array:"
   ]
  },
  {
   "cell_type": "code",
   "execution_count": null,
   "id": "b88330ed",
   "metadata": {
    "colab": {
     "base_uri": "https://localhost:8080/"
    },
    "colab_type": "code",
    "executionInfo": {
     "elapsed": 2918,
     "status": "ok",
     "timestamp": 1593989686282,
     "user": {
      "displayName": "StrataScratch Team",
      "photoUrl": "https://lh3.googleusercontent.com/a-/AOh14GiGK63dtW9acM3jHkRfj4-UOzVsKLa-kgNxbCK8a4jqcDOb1j9M8lxSiEHAqWgAkHg7ba24OUjUnZd-SZqErlj2EIwbpqiuMApVBC4j-VTn5geFXVLj6pwNrVCYt1er_lVA_47-cqOy7jE5Rk8U_kIEk6C8kmdRru20cUkylWnYkKYBVXplxIBmvvemTvz5YRQxbgxOWLecE41ZTt6gMCo22i_9RBn4Trle7Qe5TGkpvUfu8AoVjWS-c3m2tR4gOYsGI9IrLF7YkN3yTS8_fOPGFkHmCMAV0SqUmv1cYjhWRxBrTMjGiAHV2PUfxvKoFKfketXUNG5yyBuHMKxV0bIc8gWil3Fx9_tl4Vwx-4bsBlEErQxe9JetDn_OJA_BpkDPGbQRYAhvjbll0PQjJUtuvOKfgyYWwq6RPG6ZBrcoGLE-N87otH1q6HoBsWFp64Nb3f0I9iGjk5u_dCnuscJ1B0uNt-Kk6Cqly6sae6rujILmXYg6A9dpf7Ab_GlQ5EjP3FJyYH2Qlyrd4FFCQUFbT-hAn7EcS7IKhsGrc3PKtMUktJmqoA-hWJFAbEFhp3xuM2qjp5dgv-r_FxJHs2t-RVhCBum9Con9_jvjokRxiAgA1XhQdF0SXA7HV-yyjs9Si7uHUNutnHCqFMNSsUpWW4TPz8OwuKVauJwhDYZLjOTtxKVzvNmm0oS9U_KoSHKZMwO0OsC7JfiMzlbAD38fS-tj3_fc8RmX29JxOgop0w30OBG9xUywfb1FGuEb5A=s64",
      "userId": "17044389388162035463"
     },
     "user_tz": 420
    },
    "id": "iwzRaEkYcuKp",
    "outputId": "5a9a258a-453f-410f-9c19-74540baf765b"
   },
   "outputs": [],
   "source": [
    "x[::-1]  # all elements, reversed"
   ]
  },
  {
   "cell_type": "code",
   "execution_count": null,
   "id": "a701abf2",
   "metadata": {
    "colab": {
     "base_uri": "https://localhost:8080/"
    },
    "colab_type": "code",
    "executionInfo": {
     "elapsed": 2914,
     "status": "ok",
     "timestamp": 1593989686283,
     "user": {
      "displayName": "StrataScratch Team",
      "photoUrl": "https://lh3.googleusercontent.com/a-/AOh14GiGK63dtW9acM3jHkRfj4-UOzVsKLa-kgNxbCK8a4jqcDOb1j9M8lxSiEHAqWgAkHg7ba24OUjUnZd-SZqErlj2EIwbpqiuMApVBC4j-VTn5geFXVLj6pwNrVCYt1er_lVA_47-cqOy7jE5Rk8U_kIEk6C8kmdRru20cUkylWnYkKYBVXplxIBmvvemTvz5YRQxbgxOWLecE41ZTt6gMCo22i_9RBn4Trle7Qe5TGkpvUfu8AoVjWS-c3m2tR4gOYsGI9IrLF7YkN3yTS8_fOPGFkHmCMAV0SqUmv1cYjhWRxBrTMjGiAHV2PUfxvKoFKfketXUNG5yyBuHMKxV0bIc8gWil3Fx9_tl4Vwx-4bsBlEErQxe9JetDn_OJA_BpkDPGbQRYAhvjbll0PQjJUtuvOKfgyYWwq6RPG6ZBrcoGLE-N87otH1q6HoBsWFp64Nb3f0I9iGjk5u_dCnuscJ1B0uNt-Kk6Cqly6sae6rujILmXYg6A9dpf7Ab_GlQ5EjP3FJyYH2Qlyrd4FFCQUFbT-hAn7EcS7IKhsGrc3PKtMUktJmqoA-hWJFAbEFhp3xuM2qjp5dgv-r_FxJHs2t-RVhCBum9Con9_jvjokRxiAgA1XhQdF0SXA7HV-yyjs9Si7uHUNutnHCqFMNSsUpWW4TPz8OwuKVauJwhDYZLjOTtxKVzvNmm0oS9U_KoSHKZMwO0OsC7JfiMzlbAD38fS-tj3_fc8RmX29JxOgop0w30OBG9xUywfb1FGuEb5A=s64",
      "userId": "17044389388162035463"
     },
     "user_tz": 420
    },
    "id": "mkkGshzJcuKq",
    "outputId": "a61580e5-7607-484e-f36e-89e472c1cc8c"
   },
   "outputs": [],
   "source": [
    "x[5::-2]  # reversed every other from index 5"
   ]
  },
  {
   "cell_type": "markdown",
   "id": "ba0e723b",
   "metadata": {
    "colab_type": "text",
    "id": "WaGrrSa1cuKt"
   },
   "source": [
    "### Multi-dimensional subarrays\n",
    "\n",
    "Multi-dimensional slices work in the same way, with multiple slices separated by commas.\n",
    "For example:"
   ]
  },
  {
   "cell_type": "code",
   "execution_count": null,
   "id": "bbf3cd36",
   "metadata": {
    "colab": {
     "base_uri": "https://localhost:8080/"
    },
    "colab_type": "code",
    "executionInfo": {
     "elapsed": 2924,
     "status": "ok",
     "timestamp": 1593989686296,
     "user": {
      "displayName": "StrataScratch Team",
      "photoUrl": "https://lh3.googleusercontent.com/a-/AOh14GiGK63dtW9acM3jHkRfj4-UOzVsKLa-kgNxbCK8a4jqcDOb1j9M8lxSiEHAqWgAkHg7ba24OUjUnZd-SZqErlj2EIwbpqiuMApVBC4j-VTn5geFXVLj6pwNrVCYt1er_lVA_47-cqOy7jE5Rk8U_kIEk6C8kmdRru20cUkylWnYkKYBVXplxIBmvvemTvz5YRQxbgxOWLecE41ZTt6gMCo22i_9RBn4Trle7Qe5TGkpvUfu8AoVjWS-c3m2tR4gOYsGI9IrLF7YkN3yTS8_fOPGFkHmCMAV0SqUmv1cYjhWRxBrTMjGiAHV2PUfxvKoFKfketXUNG5yyBuHMKxV0bIc8gWil3Fx9_tl4Vwx-4bsBlEErQxe9JetDn_OJA_BpkDPGbQRYAhvjbll0PQjJUtuvOKfgyYWwq6RPG6ZBrcoGLE-N87otH1q6HoBsWFp64Nb3f0I9iGjk5u_dCnuscJ1B0uNt-Kk6Cqly6sae6rujILmXYg6A9dpf7Ab_GlQ5EjP3FJyYH2Qlyrd4FFCQUFbT-hAn7EcS7IKhsGrc3PKtMUktJmqoA-hWJFAbEFhp3xuM2qjp5dgv-r_FxJHs2t-RVhCBum9Con9_jvjokRxiAgA1XhQdF0SXA7HV-yyjs9Si7uHUNutnHCqFMNSsUpWW4TPz8OwuKVauJwhDYZLjOTtxKVzvNmm0oS9U_KoSHKZMwO0OsC7JfiMzlbAD38fS-tj3_fc8RmX29JxOgop0w30OBG9xUywfb1FGuEb5A=s64",
      "userId": "17044389388162035463"
     },
     "user_tz": 420
    },
    "id": "T6kEGlYRcuKv",
    "outputId": "bf1d28af-0a37-49e9-8e72-aa70aa6df9cc"
   },
   "outputs": [],
   "source": [
    "x2[:2, :3]  # two rows, three columns"
   ]
  },
  {
   "cell_type": "code",
   "execution_count": null,
   "id": "e0dc1e8f",
   "metadata": {
    "colab": {
     "base_uri": "https://localhost:8080/"
    },
    "colab_type": "code",
    "executionInfo": {
     "elapsed": 2919,
     "status": "ok",
     "timestamp": 1593989686298,
     "user": {
      "displayName": "StrataScratch Team",
      "photoUrl": "https://lh3.googleusercontent.com/a-/AOh14GiGK63dtW9acM3jHkRfj4-UOzVsKLa-kgNxbCK8a4jqcDOb1j9M8lxSiEHAqWgAkHg7ba24OUjUnZd-SZqErlj2EIwbpqiuMApVBC4j-VTn5geFXVLj6pwNrVCYt1er_lVA_47-cqOy7jE5Rk8U_kIEk6C8kmdRru20cUkylWnYkKYBVXplxIBmvvemTvz5YRQxbgxOWLecE41ZTt6gMCo22i_9RBn4Trle7Qe5TGkpvUfu8AoVjWS-c3m2tR4gOYsGI9IrLF7YkN3yTS8_fOPGFkHmCMAV0SqUmv1cYjhWRxBrTMjGiAHV2PUfxvKoFKfketXUNG5yyBuHMKxV0bIc8gWil3Fx9_tl4Vwx-4bsBlEErQxe9JetDn_OJA_BpkDPGbQRYAhvjbll0PQjJUtuvOKfgyYWwq6RPG6ZBrcoGLE-N87otH1q6HoBsWFp64Nb3f0I9iGjk5u_dCnuscJ1B0uNt-Kk6Cqly6sae6rujILmXYg6A9dpf7Ab_GlQ5EjP3FJyYH2Qlyrd4FFCQUFbT-hAn7EcS7IKhsGrc3PKtMUktJmqoA-hWJFAbEFhp3xuM2qjp5dgv-r_FxJHs2t-RVhCBum9Con9_jvjokRxiAgA1XhQdF0SXA7HV-yyjs9Si7uHUNutnHCqFMNSsUpWW4TPz8OwuKVauJwhDYZLjOTtxKVzvNmm0oS9U_KoSHKZMwO0OsC7JfiMzlbAD38fS-tj3_fc8RmX29JxOgop0w30OBG9xUywfb1FGuEb5A=s64",
      "userId": "17044389388162035463"
     },
     "user_tz": 420
    },
    "id": "hSuQAZ-pcuKy",
    "outputId": "38ee5ae8-2ac9-494f-80c7-cc92c38b4c0e"
   },
   "outputs": [],
   "source": [
    "x2[:3, ::2]  # all rows, every other column"
   ]
  },
  {
   "cell_type": "markdown",
   "id": "6cd72e7a",
   "metadata": {
    "colab_type": "text",
    "id": "iwZsEy_McuK0"
   },
   "source": [
    "Finally, subarray dimensions can even be reversed together:"
   ]
  },
  {
   "cell_type": "code",
   "execution_count": null,
   "id": "bf20f6dc",
   "metadata": {
    "colab": {
     "base_uri": "https://localhost:8080/"
    },
    "colab_type": "code",
    "executionInfo": {
     "elapsed": 2927,
     "status": "ok",
     "timestamp": 1593989686312,
     "user": {
      "displayName": "StrataScratch Team",
      "photoUrl": "https://lh3.googleusercontent.com/a-/AOh14GiGK63dtW9acM3jHkRfj4-UOzVsKLa-kgNxbCK8a4jqcDOb1j9M8lxSiEHAqWgAkHg7ba24OUjUnZd-SZqErlj2EIwbpqiuMApVBC4j-VTn5geFXVLj6pwNrVCYt1er_lVA_47-cqOy7jE5Rk8U_kIEk6C8kmdRru20cUkylWnYkKYBVXplxIBmvvemTvz5YRQxbgxOWLecE41ZTt6gMCo22i_9RBn4Trle7Qe5TGkpvUfu8AoVjWS-c3m2tR4gOYsGI9IrLF7YkN3yTS8_fOPGFkHmCMAV0SqUmv1cYjhWRxBrTMjGiAHV2PUfxvKoFKfketXUNG5yyBuHMKxV0bIc8gWil3Fx9_tl4Vwx-4bsBlEErQxe9JetDn_OJA_BpkDPGbQRYAhvjbll0PQjJUtuvOKfgyYWwq6RPG6ZBrcoGLE-N87otH1q6HoBsWFp64Nb3f0I9iGjk5u_dCnuscJ1B0uNt-Kk6Cqly6sae6rujILmXYg6A9dpf7Ab_GlQ5EjP3FJyYH2Qlyrd4FFCQUFbT-hAn7EcS7IKhsGrc3PKtMUktJmqoA-hWJFAbEFhp3xuM2qjp5dgv-r_FxJHs2t-RVhCBum9Con9_jvjokRxiAgA1XhQdF0SXA7HV-yyjs9Si7uHUNutnHCqFMNSsUpWW4TPz8OwuKVauJwhDYZLjOTtxKVzvNmm0oS9U_KoSHKZMwO0OsC7JfiMzlbAD38fS-tj3_fc8RmX29JxOgop0w30OBG9xUywfb1FGuEb5A=s64",
      "userId": "17044389388162035463"
     },
     "user_tz": 420
    },
    "id": "2ZApHh_DcuK0",
    "outputId": "db6892ad-f9f2-4b53-9a9c-7d86b6d6d8e4"
   },
   "outputs": [],
   "source": [
    "x2[::-1, ::-1]"
   ]
  },
  {
   "cell_type": "markdown",
   "id": "486330c4",
   "metadata": {
    "colab_type": "text",
    "id": "kRyreM17cuK3"
   },
   "source": [
    "#### Accessing array rows and columns\n",
    "\n",
    "One commonly needed routine is accessing of single rows or columns of an array.\n",
    "This can be done by combining indexing and slicing, using an empty slice marked by a single colon (``:``):"
   ]
  },
  {
   "cell_type": "code",
   "execution_count": null,
   "id": "c955f67b",
   "metadata": {
    "colab": {
     "base_uri": "https://localhost:8080/"
    },
    "colab_type": "code",
    "executionInfo": {
     "elapsed": 2925,
     "status": "ok",
     "timestamp": 1593989686313,
     "user": {
      "displayName": "StrataScratch Team",
      "photoUrl": "https://lh3.googleusercontent.com/a-/AOh14GiGK63dtW9acM3jHkRfj4-UOzVsKLa-kgNxbCK8a4jqcDOb1j9M8lxSiEHAqWgAkHg7ba24OUjUnZd-SZqErlj2EIwbpqiuMApVBC4j-VTn5geFXVLj6pwNrVCYt1er_lVA_47-cqOy7jE5Rk8U_kIEk6C8kmdRru20cUkylWnYkKYBVXplxIBmvvemTvz5YRQxbgxOWLecE41ZTt6gMCo22i_9RBn4Trle7Qe5TGkpvUfu8AoVjWS-c3m2tR4gOYsGI9IrLF7YkN3yTS8_fOPGFkHmCMAV0SqUmv1cYjhWRxBrTMjGiAHV2PUfxvKoFKfketXUNG5yyBuHMKxV0bIc8gWil3Fx9_tl4Vwx-4bsBlEErQxe9JetDn_OJA_BpkDPGbQRYAhvjbll0PQjJUtuvOKfgyYWwq6RPG6ZBrcoGLE-N87otH1q6HoBsWFp64Nb3f0I9iGjk5u_dCnuscJ1B0uNt-Kk6Cqly6sae6rujILmXYg6A9dpf7Ab_GlQ5EjP3FJyYH2Qlyrd4FFCQUFbT-hAn7EcS7IKhsGrc3PKtMUktJmqoA-hWJFAbEFhp3xuM2qjp5dgv-r_FxJHs2t-RVhCBum9Con9_jvjokRxiAgA1XhQdF0SXA7HV-yyjs9Si7uHUNutnHCqFMNSsUpWW4TPz8OwuKVauJwhDYZLjOTtxKVzvNmm0oS9U_KoSHKZMwO0OsC7JfiMzlbAD38fS-tj3_fc8RmX29JxOgop0w30OBG9xUywfb1FGuEb5A=s64",
      "userId": "17044389388162035463"
     },
     "user_tz": 420
    },
    "id": "Pa2XjSAHcuK4",
    "outputId": "7100dd2a-6aeb-4525-cc65-44fef212eb46"
   },
   "outputs": [],
   "source": [
    "x2[:, 0]  # first column of x2"
   ]
  },
  {
   "cell_type": "code",
   "execution_count": null,
   "id": "d73702c2",
   "metadata": {
    "colab": {
     "base_uri": "https://localhost:8080/"
    },
    "colab_type": "code",
    "executionInfo": {
     "elapsed": 2923,
     "status": "ok",
     "timestamp": 1593989686318,
     "user": {
      "displayName": "StrataScratch Team",
      "photoUrl": "https://lh3.googleusercontent.com/a-/AOh14GiGK63dtW9acM3jHkRfj4-UOzVsKLa-kgNxbCK8a4jqcDOb1j9M8lxSiEHAqWgAkHg7ba24OUjUnZd-SZqErlj2EIwbpqiuMApVBC4j-VTn5geFXVLj6pwNrVCYt1er_lVA_47-cqOy7jE5Rk8U_kIEk6C8kmdRru20cUkylWnYkKYBVXplxIBmvvemTvz5YRQxbgxOWLecE41ZTt6gMCo22i_9RBn4Trle7Qe5TGkpvUfu8AoVjWS-c3m2tR4gOYsGI9IrLF7YkN3yTS8_fOPGFkHmCMAV0SqUmv1cYjhWRxBrTMjGiAHV2PUfxvKoFKfketXUNG5yyBuHMKxV0bIc8gWil3Fx9_tl4Vwx-4bsBlEErQxe9JetDn_OJA_BpkDPGbQRYAhvjbll0PQjJUtuvOKfgyYWwq6RPG6ZBrcoGLE-N87otH1q6HoBsWFp64Nb3f0I9iGjk5u_dCnuscJ1B0uNt-Kk6Cqly6sae6rujILmXYg6A9dpf7Ab_GlQ5EjP3FJyYH2Qlyrd4FFCQUFbT-hAn7EcS7IKhsGrc3PKtMUktJmqoA-hWJFAbEFhp3xuM2qjp5dgv-r_FxJHs2t-RVhCBum9Con9_jvjokRxiAgA1XhQdF0SXA7HV-yyjs9Si7uHUNutnHCqFMNSsUpWW4TPz8OwuKVauJwhDYZLjOTtxKVzvNmm0oS9U_KoSHKZMwO0OsC7JfiMzlbAD38fS-tj3_fc8RmX29JxOgop0w30OBG9xUywfb1FGuEb5A=s64",
      "userId": "17044389388162035463"
     },
     "user_tz": 420
    },
    "id": "G2FwyLl3cuK6",
    "outputId": "8d403146-9c3e-47d8-b604-6b1b63637009"
   },
   "outputs": [],
   "source": [
    "x2[0, :]  # first row of x2"
   ]
  },
  {
   "cell_type": "markdown",
   "id": "66cc0936",
   "metadata": {
    "colab_type": "text",
    "id": "u25V328kcuK8"
   },
   "source": [
    "In the case of row access, the empty slice can be omitted for a more compact syntax:"
   ]
  },
  {
   "cell_type": "code",
   "execution_count": null,
   "id": "388d7659",
   "metadata": {
    "colab": {
     "base_uri": "https://localhost:8080/"
    },
    "colab_type": "code",
    "executionInfo": {
     "elapsed": 2917,
     "status": "ok",
     "timestamp": 1593989686319,
     "user": {
      "displayName": "StrataScratch Team",
      "photoUrl": "https://lh3.googleusercontent.com/a-/AOh14GiGK63dtW9acM3jHkRfj4-UOzVsKLa-kgNxbCK8a4jqcDOb1j9M8lxSiEHAqWgAkHg7ba24OUjUnZd-SZqErlj2EIwbpqiuMApVBC4j-VTn5geFXVLj6pwNrVCYt1er_lVA_47-cqOy7jE5Rk8U_kIEk6C8kmdRru20cUkylWnYkKYBVXplxIBmvvemTvz5YRQxbgxOWLecE41ZTt6gMCo22i_9RBn4Trle7Qe5TGkpvUfu8AoVjWS-c3m2tR4gOYsGI9IrLF7YkN3yTS8_fOPGFkHmCMAV0SqUmv1cYjhWRxBrTMjGiAHV2PUfxvKoFKfketXUNG5yyBuHMKxV0bIc8gWil3Fx9_tl4Vwx-4bsBlEErQxe9JetDn_OJA_BpkDPGbQRYAhvjbll0PQjJUtuvOKfgyYWwq6RPG6ZBrcoGLE-N87otH1q6HoBsWFp64Nb3f0I9iGjk5u_dCnuscJ1B0uNt-Kk6Cqly6sae6rujILmXYg6A9dpf7Ab_GlQ5EjP3FJyYH2Qlyrd4FFCQUFbT-hAn7EcS7IKhsGrc3PKtMUktJmqoA-hWJFAbEFhp3xuM2qjp5dgv-r_FxJHs2t-RVhCBum9Con9_jvjokRxiAgA1XhQdF0SXA7HV-yyjs9Si7uHUNutnHCqFMNSsUpWW4TPz8OwuKVauJwhDYZLjOTtxKVzvNmm0oS9U_KoSHKZMwO0OsC7JfiMzlbAD38fS-tj3_fc8RmX29JxOgop0w30OBG9xUywfb1FGuEb5A=s64",
      "userId": "17044389388162035463"
     },
     "user_tz": 420
    },
    "id": "m1gvNuTmcuK9",
    "outputId": "f088ef4f-bb5d-4463-f455-a43d698cd0d2"
   },
   "outputs": [],
   "source": [
    "x2[0]  # equivalent to x2[0, :]"
   ]
  },
  {
   "cell_type": "markdown",
   "id": "fe7db892",
   "metadata": {},
   "source": [
    "<hr style=\"border:2px solid gray\"> </hr>   \n",
    "\n",
    "## Practice Tasks\n",
    "\n",
    "#### For the following six tasks, refer to the arrays created below. Run this code to get started."
   ]
  },
  {
   "cell_type": "code",
   "execution_count": null,
   "id": "3a4eb07b",
   "metadata": {},
   "outputs": [],
   "source": [
    "np.random.seed(1)  # seed for reproducibility\n",
    "x1 = np.random.randint(10, size=9)  # One-dimensional array\n",
    "x2 = np.random.randint(10, size=(3, 3))  # Two-dimensional array"
   ]
  },
  {
   "cell_type": "markdown",
   "id": "883d85d6",
   "metadata": {
    "id": "1wFnOHlukYr7"
   },
   "source": [
    "#### 1. Create a slice containing the last 5 elements of x1."
   ]
  },
  {
   "cell_type": "code",
   "execution_count": null,
   "id": "7812ac7b",
   "metadata": {
    "id": "4QZwDOoBcuKY"
   },
   "outputs": [],
   "source": [
    "# START YOUR CODE HERE.\n"
   ]
  },
  {
   "cell_type": "markdown",
   "id": "1edf81bd",
   "metadata": {
    "id": "v6QSGrSMkYr_"
   },
   "source": [
    "<details>    \n",
    "<summary>\n",
    "    <font size=\"3\" color=\"darkgreen\"><b>Solution (click to expand)</b></font>\n",
    "</summary>\n",
    "<p>\n",
    "    <code>x1[-5:]</code>\n",
    "</p>\n",
    "</details>\n",
    "\n",
    "#### 2. Create a slice containing every third element starting at the second element  of x1."
   ]
  },
  {
   "cell_type": "code",
   "execution_count": null,
   "id": "c1a417a9",
   "metadata": {
    "id": "_OOgvRuXcuKa"
   },
   "outputs": [],
   "source": [
    "# START YOUR CODE HERE.\n"
   ]
  },
  {
   "cell_type": "markdown",
   "id": "c500bdbe",
   "metadata": {
    "id": "Lvpj2gNScuKn"
   },
   "source": [
    "<details>    \n",
    "<summary>\n",
    "    <font size=\"3\" color=\"darkgreen\"><b>Solution (click to expand)</b></font>\n",
    "</summary>\n",
    "<p>\n",
    "    <code>x1[1::3]</code>\n",
    "</p>\n",
    "</details>\n",
    "\n",
    "#### 3. Create a slice where x1 has been reversed."
   ]
  },
  {
   "cell_type": "code",
   "execution_count": null,
   "id": "95c489ed",
   "metadata": {},
   "outputs": [],
   "source": [
    "# START YOUR CODE HERE.\n"
   ]
  },
  {
   "cell_type": "markdown",
   "id": "67129410",
   "metadata": {
    "id": "gEjjuoWekYsK"
   },
   "source": [
    "<details>    \n",
    "<summary>\n",
    "    <font size=\"3\" color=\"darkgreen\"><b>Solution (click to expand)</b></font>\n",
    "</summary>\n",
    "<p>\n",
    "    <code>x1[::-1]</code>\n",
    "</p>\n",
    "</details>\n",
    "\n",
    "#### 4. Create a slice containing the first two rows and first column of x2."
   ]
  },
  {
   "cell_type": "code",
   "execution_count": null,
   "id": "3f355747",
   "metadata": {
    "id": "T6kEGlYRcuKv",
    "scrolled": true
   },
   "outputs": [],
   "source": [
    "# START YOUR CODE HERE.\n"
   ]
  },
  {
   "cell_type": "markdown",
   "id": "f867d611",
   "metadata": {
    "id": "iwZsEy_McuK0"
   },
   "source": [
    "<details>    \n",
    "<summary>\n",
    "    <font size=\"3\" color=\"darkgreen\"><b>Solution (click to expand)</b></font>\n",
    "</summary>\n",
    "<p>\n",
    "    <code>x2[[0, 1], 0]</code>\n",
    "</p>\n",
    "</details>\n",
    "\n",
    "#### 5. Create a slice where the rows have been reversed for x2."
   ]
  },
  {
   "cell_type": "code",
   "execution_count": null,
   "id": "448054f4",
   "metadata": {
    "id": "2ZApHh_DcuK0"
   },
   "outputs": [],
   "source": [
    "# START YOUR CODE HERE.\n"
   ]
  },
  {
   "cell_type": "markdown",
   "id": "41cb6a3f",
   "metadata": {
    "id": "kRyreM17cuK3"
   },
   "source": [
    "<details>    \n",
    "<summary>\n",
    "    <font size=\"3\" color=\"darkgreen\"><b>Solution (click to expand)</b></font>\n",
    "</summary>\n",
    "<p>\n",
    "    <code>x2[::-1,:]</code>\n",
    "</p>\n",
    "</details>\n",
    "\n",
    "#### 6. Print the first column of x2."
   ]
  },
  {
   "cell_type": "code",
   "execution_count": null,
   "id": "e2d25e00",
   "metadata": {
    "id": "Pa2XjSAHcuK4"
   },
   "outputs": [],
   "source": [
    "# START YOUR CODE HERE.\n"
   ]
  },
  {
   "cell_type": "markdown",
   "id": "a5c5f3af",
   "metadata": {
    "id": "TfJKZsnwkYsQ"
   },
   "source": [
    "<details>    \n",
    "<summary>\n",
    "    <font size=\"3\" color=\"darkgreen\"><b>Solution (click to expand)</b></font>\n",
    "</summary>\n",
    "<p>\n",
    "    <code>print(x2[:, 0])</code>\n",
    "</p>\n",
    "</details>\n",
    "\n",
    "#### 7. Print the first row of x2."
   ]
  },
  {
   "cell_type": "code",
   "execution_count": null,
   "id": "cdad6e47",
   "metadata": {
    "id": "G2FwyLl3cuK6"
   },
   "outputs": [],
   "source": [
    "# START YOUR CODE HERE.\n"
   ]
  },
  {
   "cell_type": "markdown",
   "id": "e3e94ac9",
   "metadata": {},
   "source": [
    "<details>    \n",
    "<summary>\n",
    "    <font size=\"3\" color=\"darkgreen\"><b>Solution (click to expand)</b></font>\n",
    "</summary>\n",
    "<p>\n",
    "    <code>print(x2[0, :])</code>\n",
    "</p>\n",
    "</details>"
   ]
  }
 ],
 "metadata": {
  "kernelspec": {
   "display_name": "Python 3 (ipykernel)",
   "language": "python",
   "name": "python3"
  },
  "language_info": {
   "codemirror_mode": {
    "name": "ipython",
    "version": 3
   },
   "file_extension": ".py",
   "mimetype": "text/x-python",
   "name": "python",
   "nbconvert_exporter": "python",
   "pygments_lexer": "ipython3",
   "version": "3.8.9"
  }
 },
 "nbformat": 4,
 "nbformat_minor": 5
}
