{
 "cells": [
  {
   "cell_type": "code",
   "execution_count": null,
   "id": "b29c306a",
   "metadata": {},
   "outputs": [],
   "source": [
    "# RUN THIS COMMAND ONLY IF YOU USE GOOGLE COLAB.\n",
    "from google.colab import drive\n",
    "drive.mount('/content/drive')"
   ]
  },
  {
   "cell_type": "code",
   "execution_count": null,
   "id": "d611f4fe",
   "metadata": {},
   "outputs": [],
   "source": [
    "# RUN THIS COMMAND ONLY IF YOU USE GOOGLE COLAB.\n",
    "%cd drive/MyDrive/TechLabs/02_Data\\ Manipulation/Part\\ A\\ -\\ Regular\\ Expressions"
   ]
  },
  {
   "cell_type": "code",
   "execution_count": null,
   "id": "8b769796",
   "metadata": {},
   "outputs": [],
   "source": [
    "# IMPORT THE REGULAR EXPRESSIONS MODULE FIRST.\n",
    "import re"
   ]
  },
  {
   "cell_type": "markdown",
   "id": "83fde2fd",
   "metadata": {},
   "source": [
    "# Chapter 1 - Regular Expressions\n",
    "### Hey Techie,   \n",
    "Welcome to this lecture in which you will learn how to use and write regular expressions to filter text data efficiently. We encourage you to take this notebook as a template to code along the instruction video, which you may find at: https://www.youtube.com/watch?v=K8L6KVGG-7o. Below you find every text-snippet which is used throughout the video. Also, the data.txt can be found in data/data.txt directory.   \n",
    "\n",
    "#### Cheat Sheet for Regexes: https://www.debuggex.com/cheatsheet/regex/python.\n",
    "\n",
    "#### Have fun! :-)   \n",
    "*Video length in total*: 54 minutes   \n",
    "*Self-study time*: 54 minutes   \n",
    "*Total*: **108 minutes**   \n",
    "#### Credits\n",
    "Python Tutorial: re Module - How to Write and Match Regular Expressions (Regex), Corey Schafer, https://www.youtube.com/channel/UCCezIgC97PvUuR4_gbFUs5g.\n",
    "<hr style=\"border:2px solid gray\"> </hr>   \n",
    "   \n",
    "## Text-Snippets"
   ]
  },
  {
   "cell_type": "code",
   "execution_count": null,
   "id": "4ded8029",
   "metadata": {},
   "outputs": [],
   "source": [
    "text_to_search = '''\n",
    "abcdefghijklmnopqurtuvwxyz\n",
    "ABCDEFGHIJKLMNOPQRSTUVWXYZ\n",
    "1234567890\n",
    "Ha HaHa\n",
    "MetaCharacters (Need to be escaped):\n",
    ". ^ $ * + ? { } [ ] \\ | ( )\n",
    "coreyms.com\n",
    "321-555-4321\n",
    "123.555.1234\n",
    "123*555*1234\n",
    "800-555-1234\n",
    "900-555-1234\n",
    "Mr. Schafer\n",
    "Mr Smith\n",
    "Ms Davis\n",
    "Mrs. Robinson\n",
    "Mr. T\n",
    "'''\n",
    "\n",
    "sentence = 'Start a sentence and then bring it to an end'\n",
    "\n",
    "urls = '''\n",
    "https://www.google.com\n",
    "http://coreyms.com\n",
    "https://youtube.com\n",
    "https://www.nasa.gov\n",
    "'''\n",
    "\n",
    "emails = '''\n",
    "CoreyMSchafer@gmail.com\n",
    "corey.schafer@university.edu\n",
    "corey-321-schafer@my-work.net\n",
    "'''\n",
    "\n",
    "with open(\"data/data.txt\", \"r\", encoding=\"utf-8\") as file:\n",
    "    contents = file.read()"
   ]
  },
  {
   "cell_type": "markdown",
   "id": "7f4df52d",
   "metadata": {},
   "source": [
    "<hr style=\"border:2px solid gray\"> </hr>   \n",
    "   \n",
    "## Python Tutorial: re Module - How to Write and Match Regular Expressions (Regex)"
   ]
  },
  {
   "cell_type": "code",
   "execution_count": null,
   "id": "12c641d4",
   "metadata": {},
   "outputs": [],
   "source": [
    "# START YOUR CODE HERE.\n"
   ]
  },
  {
   "cell_type": "markdown",
   "id": "29c53b30",
   "metadata": {},
   "source": [
    "<hr style=\"border:2px solid gray\"> </hr>   \n",
    "   \n",
    "## Practice Task   \n",
    "#### For this example, we will work with the Data Science Wikipedia article. First, please inspect the text below."
   ]
  },
  {
   "cell_type": "code",
   "execution_count": 4,
   "id": "a2b0b2ee",
   "metadata": {},
   "outputs": [],
   "source": [
    "with open(\"data/practice.txt\", \"r\") as file:\n",
    "    wikipedia_article = file.read()\n",
    "# INSPECT TEXT HERE.\n",
    "# print(wikipedia_article)"
   ]
  },
  {
   "cell_type": "markdown",
   "id": "2e50df5a",
   "metadata": {},
   "source": [
    "#### Your task is to filter out every heading (i.e., Foundations, Relationship to statistics etc.) using a regular expression. To do so, please complement the below function, which should return a list of strings that contains the different headings as elements.   \n",
    "<br />\n",
    "<details>    \n",
    "<summary>\n",
    "    <font size=\"3\" color=\"red\"><b>Hints (click to expand)</b></font>\n",
    "</summary>\n",
    "<p>\n",
    "    <ul>\n",
    "        <li>You can identify the headings by using the leading and ending '==.'</li>\n",
    "        <li>Design a regex-pattern with three groups, where groups one and three capture the '==' and group 2 captures the heading itself.</li>\n",
    "    </ul>\n",
    "</p>\n",
    "</details>  "
   ]
  },
  {
   "cell_type": "code",
   "execution_count": null,
   "id": "80b761a0",
   "metadata": {},
   "outputs": [],
   "source": [
    "def answer():\n",
    "    # START YOUR CODE HERE.\n",
    "    \n",
    "    return # RETURN YOUR ANSWER HERE."
   ]
  },
  {
   "cell_type": "code",
   "execution_count": null,
   "id": "f42ad02e",
   "metadata": {},
   "outputs": [],
   "source": [
    "# THIS CELL TESTS YOUR RESULTS.\n",
    "assert type(answer()) == type([]), \"Please return a list!\"\n",
    "assert type(answer()[0]) == type(str()), \"The returned list should contain strings as elements!\"\n",
    "assert len(answer()) == 10, \"Your results seem to be incomplete!\"\n",
    "assert \"Foundations\" in answer(), \"Your results seem to be incomplete!\"\n",
    "assert \"Modern usage\" in answer(), \"Your results seem to be incomplete!\""
   ]
  },
  {
   "cell_type": "markdown",
   "id": "0efcb75e",
   "metadata": {},
   "source": [
    "<details>    \n",
    "<summary>\n",
    "    <font size=\"3\" color=\"darkgreen\"><b>Solution (click to expand)</b></font>\n",
    "</summary>\n",
    "<p>\n",
    "    Solution 1: <br />\n",
    "    <code>def answer():</code><br />\n",
    "    <code>&nbsp;&nbsp;&nbsp;&nbsp;pattern = re.compile(r\"(== )([\\w ]+)( ==)\")</code><br />\n",
    "    <code>&nbsp;&nbsp;&nbsp;&nbsp;headings = [match.group(2) for match in pattern.finditer(wikipedia_article)]</code><br />\n",
    "    <code>&nbsp;&nbsp;&nbsp;&nbsp;return headings</code><br />\n",
    "    Solution 2: <br />\n",
    "    <code>def answer():</code><br />\n",
    "    <code>&nbsp;&nbsp;&nbsp;&nbsp;return re.findall(r\"(?<=== )[\\w ]+(?= ==)\", wikipedia_article)</code><br />\n",
    "</p>\n",
    "</details>  "
   ]
  }
 ],
 "metadata": {
  "kernelspec": {
   "display_name": "Python 3 (ipykernel)",
   "language": "python",
   "name": "python3"
  },
  "language_info": {
   "codemirror_mode": {
    "name": "ipython",
    "version": 3
   },
   "file_extension": ".py",
   "mimetype": "text/x-python",
   "name": "python",
   "nbconvert_exporter": "python",
   "pygments_lexer": "ipython3",
   "version": "3.8.9"
  }
 },
 "nbformat": 4,
 "nbformat_minor": 5
}
