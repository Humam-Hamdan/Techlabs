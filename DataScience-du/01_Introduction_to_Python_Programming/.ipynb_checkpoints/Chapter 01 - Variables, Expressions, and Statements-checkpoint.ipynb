{
 "cells": [
  {
   "cell_type": "markdown",
   "id": "1b87b34e",
   "metadata": {},
   "source": [
    "# Chapter 1 - Variables, Expressions, and Statements\n",
    "### Hey Techie,   \n",
    "Welcome to the first notebook of this Python tutorial series. We encourage you to take this notebook as a template to code along the instruction videos, which you may find at: https://www.py4e.com/lessons/memory. Today's two videos deal with variables and how we can use them to store data. There is no need to watch the worked exercises. In the end, please try to solve the presented task. If you want to double-check your results, you may also upload them to PY4E. For that, a Google Account is required. On the website, you find the auto-graded code tasks at the very end of each lesson.\n",
    "\n",
    "#### Have fun! :-)   \n",
    "*Video length in total*: 30 minutes   \n",
    "*Self-study time*: 30 minutes   \n",
    "*Total*: **60 minutes**   \n",
    "#### Credits\n",
    "Python for Everybody, Dr. Chuck Severance, https://www.py4e.com/, CC.\n",
    "<hr style=\"border:2px solid gray\"> </hr>"
   ]
  },
  {
   "cell_type": "markdown",
   "id": "caf3dc55",
   "metadata": {},
   "source": [
    "## Variables, Expressions, and Statements"
   ]
  },
  {
   "cell_type": "markdown",
   "id": "6be35ab2-3f54-48d4-97c4-a92f3a7b2740",
   "metadata": {},
   "source": [
    "- String constants are in single or double quotes.\n",
    "\n",
    "- Reserved words can not be used outside of the language's implementation.\n",
    "\n",
    "- when you make a variable you are allocating a piece of memory to some data with a specific name.\n",
    "\n",
    "- for 'x = 12' we tell python to take 12 and find a place for it in memory and mark the place with it. (a pointer really.)\n",
    "\n",
    "- when you reuse the same var the value changes, hence, _variable_.\n",
    "\n",
    "- usually we use smallcaps for var names.\n",
    "\n",
    "- choose var names with good readability.\n",
    "\n",
    "- Operators:\n",
    "\n",
    "    - + add\n",
    "\n",
    "    - - minus\n",
    "\n",
    "    - * by\n",
    "\n",
    "    - / over\n",
    "\n",
    "    - ** to the power of\n",
    "\n",
    "    - % mod\n",
    "\n",
    "- Python knows what a string and what an integer is.\n",
    "\n",
    "- we use the function `type()` to discern the type.\n",
    "\n",
    "- As usual, int, float.\n",
    "\n",
    "- casting is as usual, `int(...)` and `float(...)`.\n",
    "\n",
    "- implicit casting between `int` and `float` happens like usual.\n",
    "\n",
    "- / in python 3 just casts everything into floats, calculates it and when needed prints as an integer.\n",
    "\n",
    "- tbh the C standard -which was used in python 2- is more predictable, that is, if you know C :).\n",
    "\n",
    "- you can casts strings which are made of integers.\n",
    "\n",
    "- you use `input()` to get user input, `print(\"\",value)` to print a string with a value.\n",
    "\n",
    "- a comment in python begins with a `#`.\n",
    "\n",
    "- Example:\n"
   ]
  },
  {
   "cell_type": "code",
   "execution_count": 1,
   "id": "b47889df",
   "metadata": {},
   "outputs": [
    {
     "name": "stdin",
     "output_type": "stream",
     "text": [
      "Europe Floor? 1\n"
     ]
    },
    {
     "name": "stdout",
     "output_type": "stream",
     "text": [
      "US Floor 2\n"
     ]
    }
   ],
   "source": [
    "# Change from EU to US floor convection.\n",
    "\n",
    "eu_floor = int(input('Europe Floor?'))\n",
    "us_floor = eu_floor + 1\n",
    "print(\"US Floor\", us_floor)"
   ]
  },
  {
   "cell_type": "markdown",
   "id": "55f785a3",
   "metadata": {},
   "source": [
    "<hr style=\"border:2px solid gray\"> </hr>  \n",
    "\n",
    "## Practice Task   \n",
    "#### 1. Write a program to prompt the user for hours and rate per hour using input to compute gross pay. Use 35 hours and a rate of 2.75 per hour to test the program (the pay should be 96.25). You should use input to read a string and float() to convert the string to a number. Do not worry about error checking or bad user data. Print your computed pay. \n",
    "<br /> \n",
    "<details>    \n",
    "<summary>\n",
    "    <font size=\"3\" color=\"red\"><b>Hints (click to expand)</b></font>\n",
    "</summary>\n",
    "<p>\n",
    "    <ul>\n",
    "        <li>Use the built-in input method to read hours and rate per hour separately.</li>\n",
    "        <li>Typecast both inputs to floats.</li>\n",
    "        <li>Print the result by multiplying the hours with their rate per hour using the *-operator.</li>\n",
    "    </ul>\n",
    "</p>\n",
    "</details>"
   ]
  },
  {
   "cell_type": "code",
   "execution_count": null,
   "id": "71212838",
   "metadata": {},
   "outputs": [],
   "source": [
    "# hrs = input(\"Enter Hours: \")\n",
    "# START YOUR CODE HERE.\n",
    "hours = float(input(\"How many hours?\\n\"))\n",
    "rate = float(input(\"What is the hourly rate?\\n\"))\n",
    "print(\"The pay is\", hours * rate)"
   ]
  },
  {
   "cell_type": "markdown",
   "id": "fa62b820",
   "metadata": {},
   "source": [
    "<details>    \n",
    "<summary>\n",
    "    <font size=\"3\" color=\"darkgreen\"><b>Solution (click to expand)</b></font>\n",
    "</summary>\n",
    "<p>\n",
    "    <code>hrs = input(\"Enter Hours: \")</code><br />\n",
    "    <code>hrs = float(hrs)</code><br />\n",
    "    <code>rate = input(\"Enter Rate: \")</code><br />\n",
    "    <code>rate = float(rate)</code><br />\n",
    "    <code>print(\"Pay: \", hrs*rate)</code>\n",
    "</p>\n",
    "</details> "
   ]
  }
 ],
 "metadata": {
  "kernelspec": {
   "display_name": "Python 3 (ipykernel)",
   "language": "python",
   "name": "python3"
  },
  "language_info": {
   "codemirror_mode": {
    "name": "ipython",
    "version": 3
   },
   "file_extension": ".py",
   "mimetype": "text/x-python",
   "name": "python",
   "nbconvert_exporter": "python",
   "pygments_lexer": "ipython3",
   "version": "3.12.3"
  }
 },
 "nbformat": 4,
 "nbformat_minor": 5
}
