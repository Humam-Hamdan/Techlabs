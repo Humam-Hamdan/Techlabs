{
 "cells": [
  {
   "cell_type": "markdown",
   "id": "5a8c4d82",
   "metadata": {},
   "source": [
    "# Chapter 2 - Conditional Execution\n",
    "### Hey Techie,   \n",
    "Welcome to the second notebook of this Python tutorial series. We encourage you to take this notebook as a template to code along the instruction videos, which you may find at: https://www.py4e.com/lessons/logic. Today's two videos deal with how Python executes some statements and skips others. There is no need to watch the worked exercises. In the end, please try to solve the presented tasks. If you want to double-check your results, you may also upload them to PY4E. For that, a Google Account is required. On the website, you find the auto-graded code tasks at the very end of each lesson.\n",
    "\n",
    "#### Have fun! :-)   \n",
    "*Video length in total*: 30 minutes   \n",
    "*Self-study time*: 30 minutes   \n",
    "*Total*: **60 minutes**   \n",
    "#### Credits\n",
    "Python for Everybody, Dr. Chuck Severance, https://www.py4e.com/, CC.\n",
    "<hr style=\"border:2px solid gray\"> </hr>   "
   ]
  },
  {
   "cell_type": "markdown",
   "id": "4dda2637-7240-48e2-a601-92095c311099",
   "metadata": {},
   "source": [
    "- an if block looks like this:"
   ]
  },
  {
   "cell_type": "code",
   "execution_count": null,
   "id": "38a95db1",
   "metadata": {},
   "outputs": [],
   "source": [
    "x = 5\n",
    "if x < 10:\n",
    "    print('Smaller')\n",
    "if x > 20:\n",
    "    print('Bigger')\n",
    "print('Finish')"
   ]
  },
  {
   "cell_type": "markdown",
   "id": "7fd4f27b-5b21-4e5b-8fc0-fdd52d7ee6a3",
   "metadata": {},
   "source": [
    "- logical operators:\n",
    "\n",
    "    - < less than\n",
    "\n",
    "    - <= leq\n",
    "\n",
    "    - == equals\n",
    "\n",
    "    - \\>= geq\n",
    "\n",
    "    - \\> greater\n",
    "\n",
    "    - != neq\n",
    "\n",
    "    - > note, = i used for assignment\n",
    "\n",
    "- tbh after getting used to \\{\\} in C python's indentation seems stupid for a programming language.\n",
    "\n",
    "- You can nest ifs to the sky and back.\n",
    "\n",
    "- for the if then else we use"
   ]
  },
  {
   "cell_type": "code",
   "execution_count": null,
   "id": "4e62d903-3d19-4d6a-988e-f7faa2203a90",
   "metadata": {},
   "outputs": [],
   "source": [
    "if condition :\n",
    "    does this when true\n",
    "else :\n",
    "    does this when false"
   ]
  },
  {
   "cell_type": "markdown",
   "id": "4e59eb40-31e6-480e-b043-8015ca0e39ba",
   "metadata": {},
   "source": [
    "- you can have multi way with elifs"
   ]
  },
  {
   "cell_type": "code",
   "execution_count": null,
   "id": "62d8e830-be38-4fe0-8fd0-b72c559c3386",
   "metadata": {},
   "outputs": [],
   "source": [
    "if condition1 :\n",
    "    command\n",
    "elif condition2 :\n",
    "    command\n",
    "else :\n",
    "    command"
   ]
  },
  {
   "cell_type": "markdown",
   "id": "bbb523bd-0685-4864-a813-0923f7f4b679",
   "metadata": {},
   "source": [
    "- python in the execution goes line by line.\n",
    "\n",
    "- if there is no else then when the condition is not fulfilled the block will be skipped.\n",
    "\n",
    "- we use try/catch when we deal with dangerous sections/conditions."
   ]
  },
  {
   "cell_type": "code",
   "execution_count": 1,
   "id": "bf361d5d-d24d-4a3d-8b50-cbc35aff4bc2",
   "metadata": {},
   "outputs": [
    {
     "name": "stdout",
     "output_type": "stream",
     "text": [
      "First -1\n",
      "Second -1\n"
     ]
    }
   ],
   "source": [
    "astr = 'Hi'\n",
    "try:\n",
    "    ister = int(astr)\n",
    "except:\n",
    "    ister = -1\n",
    "\n",
    "print('First', ister)\n",
    "\n",
    "astr2 = '123'\n",
    "try:\n",
    "    ister2 = int(astr2)\n",
    "except:\n",
    "    istr = -1\n",
    "print('Second', ister)"
   ]
  },
  {
   "cell_type": "markdown",
   "id": "da7f6d44-a8b9-48b3-99f5-103f4061c240",
   "metadata": {},
   "source": [
    "- So when try files the except runs and the program goes on.\n",
    "\n",
    "- If there are more than one line in try, and one in the mid blows up, the rest are never tried.\n",
    "\n",
    "- Here is a real sample"
   ]
  },
  {
   "cell_type": "code",
   "execution_count": null,
   "id": "fda21fec-d4e7-4e6d-96fc-562049aa828b",
   "metadata": {},
   "outputs": [],
   "source": [
    "rawstr = input('Enter a Number: ')\n",
    "try:\n",
    "    ival = int(rawstr)\n",
    "except:\n",
    "    ival = -1\n",
    "if ival > 0:\n",
    "    print('Good Job')\n",
    "else:\n",
    "    print('NaN')"
   ]
  },
  {
   "cell_type": "markdown",
   "id": "11e677ad",
   "metadata": {},
   "source": [
    "<hr style=\"border:2px solid gray\"> </hr>   \n",
    "   \n",
    "## Practice Tasks   \n",
    "#### 1. Write a program to prompt the user for hours and rate per hour using input to compute gross pay. Pay the hourly rate for the hours up to 40 and 1.5 times the hourly rate for all hours worked above 40 hours. Use 45 hours and a rate of 10.50 per hour to test the program (the pay should be 498.75). You should use input to read a string and float() to convert the string to a number. Do not worry about error checking the user input - assume the user types numbers properly. Print your computed pay.   \n",
    "<br /> \n",
    "<details>    \n",
    "<summary>\n",
    "    <font size=\"3\" color=\"red\"><b>Hints (click to expand)</b></font>\n",
    "</summary>\n",
    "<p>\n",
    "    <ul>\n",
    "        <li>Use the built-in input method to read hours and rate per hour separately.</li>\n",
    "        <li>Typecast both inputs to floats.</li>\n",
    "        <li>Use an if-condition to test whether the hours are below or equal to 40 hours.</li>\n",
    "        <li>Print the result by multiplying the hours with their rate per hour using the *-operator.</li>\n",
    "    </ul>\n",
    "</p>\n",
    "</details>"
   ]
  },
  {
   "cell_type": "code",
   "execution_count": null,
   "id": "1f5fb1ba",
   "metadata": {
    "scrolled": true
   },
   "outputs": [],
   "source": [
    "# START YOUR CODE HERE.\n",
    "\n",
    "hours = input(\"How Many hours: \")\n",
    "try:\n",
    "    fhours = float(hours)\n",
    "except:\n",
    "    print('NaN')\n",
    "rate = input(\"What is the Rate: \")\n",
    "try:\n",
    "    frate = float(rate)\n",
    "except:\n",
    "    print('NaN')\n",
    "if fhours <= 40:\n",
    "    print('The Pay is:', fhours*frate)\n",
    "elif fhours > 40:\n",
    "    tem_hours = fhours - 40\n",
    "    print('The Pay is:', (tem_hours*frate*1.5)+frate*40)"
   ]
  },
  {
   "cell_type": "code",
   "execution_count": null,
   "id": "a360c2f1-e37e-4921-b7c6-8f0eab973ace",
   "metadata": {},
   "outputs": [],
   "source": [
    "# RUN THIS COMMAND ONLY IF YOU USE GOOGLE COLAB.\n",
    "from google.colab import drive\n",
    "drive.mount('/content/drive')"
   ]
  },
  {
   "cell_type": "markdown",
   "id": "0e137107",
   "metadata": {},
   "source": [
    "<details>    \n",
    "<summary>\n",
    "    <font size=\"3\" color=\"darkgreen\"><b>Solution (click to expand)</b></font>\n",
    "</summary>\n",
    "<p>\n",
    "    <code>hrs = input(\"Enter Hours: \")</code><br />\n",
    "    <code>hrs = float(hrs)</code><br />\n",
    "    <code>rate = input(\"Enter Rate: \")</code><br />\n",
    "    <code>rate = float(rate)</code><br />\n",
    "    <code>if hrs <= 40:</code><br />\n",
    "    <code>&nbsp;&nbsp;&nbsp;&nbsp;print(hrs*rate)</code><br />\n",
    "    <code>else:</code><br />\n",
    "    <code>&nbsp;&nbsp;&nbsp;&nbsp;print(rate*40+(hrs-40)*rate*1.5)</code>\n",
    "</p>\n",
    "</details>   \n",
    "  \n",
    "#### 2. Write a program to prompt for a score between 0.0 and 1.0. If the score is out of range, print an error. If the score is between 0.0 and 1.0, print a grade using the following scheme: >= 0.9 A; >= 0.8 B; >= 0.7 C; >= 0.6 D; < 0.6 F. For the test, enter a score of 0.85.   \n",
    "<br /> \n",
    "<details>    \n",
    "<summary>\n",
    "    <font size=\"3\" color=\"red\"><b>Hints (click to expand)</b></font>\n",
    "</summary>\n",
    "<p>\n",
    "    <ul>\n",
    "        <li>Check whether the input score is out of range first.</li>\n",
    "        <li>Check for the different grade levels in descending order.</li>\n",
    "        <li>Remind yourself of elif-conditions.</li>\n",
    "    </ul>\n",
    "</p>\n",
    "</details>"
   ]
  },
  {
   "cell_type": "code",
   "execution_count": null,
   "id": "99584dda",
   "metadata": {},
   "outputs": [],
   "source": [
    "# START YOUR CODE HERE.\n",
    "\n",
    "rawscore = input('What is the score? ')\n",
    "try:\n",
    "    fscore = float(rawscore)\n",
    "except:\n",
    "    print('Nan')\n",
    "try:\n",
    "    0.0 <= fscore <= 1.0\n",
    "except:\n",
    "    print('Out of range')\n",
    "\n",
    "if fscore >= 0.9:\n",
    "    print('A')\n",
    "elif fscore >= 0.8:\n",
    "    print('B')\n",
    "elif fscore >= 0.7:\n",
    "    print('C')\n",
    "elif fscore >= 0.6:\n",
    "    print('D')\n",
    "else:\n",
    "    print('F')"
   ]
  },
  {
   "cell_type": "markdown",
   "id": "23b59568",
   "metadata": {},
   "source": [
    "<details>    \n",
    "<summary>\n",
    "    <font size=\"3\" color=\"darkgreen\"><b>Solution (click to expand)</b></font>\n",
    "</summary>\n",
    "<p>\n",
    "    <code>score = input(\"Enter Score: \")</code><br />\n",
    "    <code>score = float(score)</code><br />\n",
    "    <code>if score < 0 or score > 1:</code><br />\n",
    "    <code>&nbsp;&nbsp;&nbsp;&nbsp;print(\"The provided value does not refer to a grade; the program closes.\")</code><br />\n",
    "    <code>&nbsp;&nbsp;&nbsp;&nbsp;exit()</code><br />\n",
    "    <code>elif score >= 0.9:</code><br />\n",
    "    <code>&nbsp;&nbsp;&nbsp;&nbsp;print(\"A\")</code><br />\n",
    "    <code>elif score >= 0.8:</code><br />\n",
    "    <code>&nbsp;&nbsp;&nbsp;&nbsp;print(\"B\")</code><br />\n",
    "    <code>elif score >= 0.7:</code><br />\n",
    "    <code>&nbsp;&nbsp;&nbsp;&nbsp;print(\"C\")</code><br />\n",
    "    <code>elif score >= 0.6:</code><br />\n",
    "    <code>&nbsp;&nbsp;&nbsp;&nbsp;print(\"D\")</code><br />\n",
    "    <code>elif score < 0.6:</code><br />\n",
    "    <code>&nbsp;&nbsp;&nbsp;&nbsp;print(\"F\")</code>\n",
    "</p>\n",
    "</details>   "
   ]
  }
 ],
 "metadata": {
  "kernelspec": {
   "display_name": "Python 3 (ipykernel)",
   "language": "python",
   "name": "python3"
  },
  "language_info": {
   "codemirror_mode": {
    "name": "ipython",
    "version": 3
   },
   "file_extension": ".py",
   "mimetype": "text/x-python",
   "name": "python",
   "nbconvert_exporter": "python",
   "pygments_lexer": "ipython3",
   "version": "3.12.3"
  }
 },
 "nbformat": 4,
 "nbformat_minor": 5
}
