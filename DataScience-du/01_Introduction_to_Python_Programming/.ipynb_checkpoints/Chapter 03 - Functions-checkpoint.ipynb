{
 "cells": [
  {
   "cell_type": "markdown",
   "id": "1b87b34e",
   "metadata": {},
   "source": [
    "# Chapter 3 - Functions\n",
    "### Hey Techie,   \n",
    "Welcome to the third notebook of this Python tutorial series. We encourage you to take this notebook as a template to code along the instruction videos, which you may find at: https://www.py4e.com/lessons/functions. Today's first two videos deal with functions and how we can make code reusable. A third video explains how anonymous functions, also called lambda functions, work which can be found at: https://www.youtube.com/watch?v=dX6lWSp7pP4&list=PLkdX4MYXSiDubmajVt7ge9LDclDf7AfKK&index=3. There is no need to watch the worked exercise on PY4E. In the end, please try to solve the presented task. If you want to double-check your results, you may also upload them to PY4E. For that, a Google Account is required. On the website, you find the auto-graded code tasks at the very end of each lesson.\n",
    "\n",
    "#### Have fun! :-)   \n",
    "*Video length in total*: 28 minutes   \n",
    "*Self-study time*: 28 minutes   \n",
    "*Total*: **56 minutes**   \n",
    "#### Credits\n",
    "Python for Everybody, Dr. Chuck Severance, https://www.py4e.com/, CC.\n",
    "\n",
    "<hr style=\"border:2px solid gray\"> </hr>   "
   ]
  },
  {
   "cell_type": "markdown",
   "id": "f904b906-07ae-40d0-a8a3-6204ee1b9c1f",
   "metadata": {},
   "source": [
    "- def defines a function\n",
    "\n",
    "- def stores the code and reuses it.\n",
    "\n",
    "- a function can have a set of input.\n",
    "\n",
    "- Example for an argument"
   ]
  },
  {
   "cell_type": "code",
   "execution_count": null,
   "id": "b47889df",
   "metadata": {},
   "outputs": [],
   "source": [
    "def greet(lang):\n",
    "    if land == 'en':\n",
    "        print('en')\n",
    "    # and so on"
   ]
  },
  {
   "cell_type": "markdown",
   "id": "8a7d0545-1071-46a0-8c40-a96bdcc595b3",
   "metadata": {},
   "source": [
    "- return example"
   ]
  },
  {
   "cell_type": "code",
   "execution_count": null,
   "id": "10448d7f-93f7-43ef-b1f8-268ba7e5a8b3",
   "metadata": {},
   "outputs": [],
   "source": [
    "def greet():\n",
    "    return 'Hello'\n",
    "print(greet(), 'Mike')"
   ]
  },
  {
   "cell_type": "markdown",
   "id": "c24434b2-e85a-42a9-a991-8fd656a5a037",
   "metadata": {},
   "source": [
    "- do not push you luck with functions."
   ]
  },
  {
   "cell_type": "markdown",
   "id": "55f785a3",
   "metadata": {},
   "source": [
    "<hr style=\"border:2px solid gray\"> </hr>  \n",
    "\n",
    "## Practice Task   \n",
    "#### 1. Write a program to prompt the user for hours and rate per hour using input to compute gross pay. Pay should be the normal rate for hours up to 40 and 1.5 for the hourly rate for all hours worked above 40 hours. Put the logic to do the computation of pay in a function called computepay() and use the function to do the computation. The function should return a value. Use 45 hours and a rate of 10.50 per hour to test the program (the pay should be 498.75). You should use input to read a string and float() to convert the string to a number. Do not worry about error checking the user input unless you want to - you can assume the user types numbers properly. Do not name your variable sum or use the sum() function. Print your computed pay.\n",
    "<br /> \n",
    "<details>    \n",
    "<summary>\n",
    "    <font size=\"3\" color=\"red\"><b>Hints (click to expand)</b></font>\n",
    "</summary>\n",
    "<p>\n",
    "    <ul>\n",
    "        <li>Your function needs two arguments: hours and rate.</li>\n",
    "        <li>Can you reuse code you have already written?</li>\n",
    "    </ul>\n",
    "</p>\n",
    "</details>"
   ]
  },
  {
   "cell_type": "code",
   "execution_count": null,
   "id": "71212838",
   "metadata": {},
   "outputs": [],
   "source": [
    "# START YOUR CODE HERE.\n",
    "\n",
    "def pay(hours, rate):\n",
    "    if hours <= 40:\n",
    "        pay = hours * rate\n",
    "    elif hours > 40:\n",
    "        pay = (40 * rate) + ((hours - 40) * 1.5 * rate)\n",
    "    return pay\n",
    "\n",
    "\n",
    "rhours = input(\"How Many hours: \")\n",
    "try:\n",
    "    hours = float(rhours)\n",
    "except:\n",
    "    print('NaN')\n",
    "rrate = input(\"What is the Rate: \")\n",
    "try:\n",
    "    rate = float(rrate)\n",
    "except:\n",
    "    print('NaN')\n",
    "\n",
    "print('Pay is', pay(hours, rate))"
   ]
  },
  {
   "cell_type": "markdown",
   "id": "fa62b820",
   "metadata": {},
   "source": [
    "<details>    \n",
    "<summary>\n",
    "    <font size=\"3\" color=\"darkgreen\"><b>Solution (click to expand)</b></font>\n",
    "</summary>\n",
    "<p>\n",
    "    <code>def computepay(h, r):</code><br />\n",
    "    <code>&nbsp;&nbsp;&nbsp;&nbsp;if h <= 40:</code><br />\n",
    "    <code>&nbsp;&nbsp;&nbsp;&nbsp;&nbsp;&nbsp;&nbsp;&nbsp;return (h*r)</code><br />\n",
    "    <code>&nbsp;&nbsp;&nbsp;&nbsp;else:</code><br />\n",
    "    <code>&nbsp;&nbsp;&nbsp;&nbsp;&nbsp;&nbsp;&nbsp;&nbsp;return (40*r+(h-40)*r*1.5)</code><br />\n",
    "    <code>hrs = input(\"Enter hours: \")</code><br />\n",
    "    <code>hrs = float(hrs)</code><br />\n",
    "    <code>rate = input(\"Enter rate: \")</code><br />\n",
    "    <code>rate = float(rate)</code><br />\n",
    "    <code>print(\"Pay: \", computepay(hrs, rate))</code><br />\n",
    "</p>\n",
    "</details> "
   ]
  }
 ],
 "metadata": {
  "kernelspec": {
   "display_name": "Python 3 (ipykernel)",
   "language": "python",
   "name": "python3"
  },
  "language_info": {
   "codemirror_mode": {
    "name": "ipython",
    "version": 3
   },
   "file_extension": ".py",
   "mimetype": "text/x-python",
   "name": "python",
   "nbconvert_exporter": "python",
   "pygments_lexer": "ipython3",
   "version": "3.12.3"
  }
 },
 "nbformat": 4,
 "nbformat_minor": 5
}
