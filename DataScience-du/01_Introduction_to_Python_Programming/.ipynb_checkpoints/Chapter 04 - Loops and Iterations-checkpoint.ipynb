{
 "cells": [
  {
   "cell_type": "markdown",
   "id": "1b87b34e",
   "metadata": {},
   "source": [
    "# Chapter 4 - Loops and Iterations\n",
    "### Hey Techie,   \n",
    "Welcome to the fourth notebook of this Python tutorial series. We encourage you to take this notebook as a template to code along the instruction videos, which you may find at: https://www.py4e.com/lessons/loops. Today's four videos deal with how Python repeats statements using looping structures. There is no need to watch the worked exercise. In the end, please try to solve the presented task. If you want to double-check your results, you may also upload them to PY4E. For that, a Google Account is required. On the website, you find the auto-graded code tasks at the very end of each lesson.\n",
    "\n",
    "#### Have fun! :-)   \n",
    "*Video length in total*: 45 minutes   \n",
    "*Self-study time*: 45 minutes   \n",
    "*Total*: **90 minutes**   \n",
    "#### Credits\n",
    "Python for Everybody, Dr. Chuck Severance, https://www.py4e.com/, CC.\n",
    "<hr style=\"border:2px solid gray\"> </hr>   \n"
   ]
  },
  {
   "cell_type": "markdown",
   "id": "a58ab2d5-d339-4933-9c8a-b73faf5b3b31",
   "metadata": {},
   "source": [
    "- while or for.\n",
    "\n",
    "- while has a condition that works just like an if statement.\n",
    "\n",
    "- a break breaks the current loop.\n",
    "\n",
    "- a continue skips the rest of the loop and goes to the head again.\n",
    "\n",
    "-whiles are indefinite loops, that means that they do not stop at a certain known point in time.\n",
    "\n",
    "- a definite loop loops over a finite number of times depending on the item we use.\n",
    "\n",
    "- `for i in ` is the base syntax for for loops.\n",
    "\n",
    "- `while condition` is the syntax for while loops.\n",
    "\n",
    "- for loop manages the iteration variable... Well, in C you do that tho.\n",
    "\n",
    "- you can set a variable to `None` in which there is just nothing stored, it is usually used as a boolean constant.\n",
    "\n",
    "- `is` and `is not` compares not only values but also types.\n",
    "\n",
    "- use `is` on `None` and `True/False`."
   ]
  },
  {
   "cell_type": "markdown",
   "id": "55f785a3",
   "metadata": {},
   "source": [
    "<hr style=\"border:2px solid gray\"> </hr>  \n",
    "\n",
    "## Practice Task   \n",
    "#### 1. Write a program that repeatedly prompts a user for integer numbers until the user enters 'done'. Once 'done' is entered, print out the largest and smallest of the numbers. If the user enters anything other than a valid number catch it with a try/except and put out an appropriate message and ignore the number. Enter 7, 2, bob, 10, and 4 and match the output below.\n",
    "<br /> \n",
    "<details>    \n",
    "<summary>\n",
    "    <font size=\"3\" color=\"red\"><b>Hints (click to expand)</b></font>\n",
    "</summary>\n",
    "<p>\n",
    "    <ul>\n",
    "        <li>\"while True\" yields an infinite loop.</li>\n",
    "        <li>One can exit a loop by using the break operator.</li>\n",
    "        <li>A valid number can be converted to an int.</li>\n",
    "    </ul>\n",
    "</p>\n",
    "</details>"
   ]
  },
  {
   "cell_type": "code",
   "execution_count": null,
   "id": "116f6e4d",
   "metadata": {},
   "outputs": [],
   "source": [
    "# START YOUR CODE HERE.\n",
    "def input_int():\n",
    "    sum = 0\n",
    "    while True:\n",
    "        x = input(\"enter an integer: \")\n",
    "\n",
    "        try:\n",
    "            xx = int(x)\n",
    "        except:\n",
    "            xx = 0\n",
    "            print(\"Enter a valid number\")\n",
    "        if (x == 'done'):\n",
    "            break\n",
    "        sum = sum + xx\n",
    "    print(\"the sum is =\", sum)\n",
    "\n",
    "\n",
    "input_int()"
   ]
  },
  {
   "cell_type": "markdown",
   "id": "fa62b820",
   "metadata": {},
   "source": [
    "<details>    \n",
    "<summary>\n",
    "    <font size=\"3\" color=\"darkgreen\"><b>Solution (click to expand)</b></font>\n",
    "</summary>\n",
    "<p>\n",
    "    <code>largest = None</code><br />\n",
    "    <code>smallest = None</code><br />\n",
    "    <code>while True:</code><br />\n",
    "    <code>&nbsp;&nbsp;&nbsp;&nbsp;try:</code><br />\n",
    "    <code>&nbsp;&nbsp;&nbsp;&nbsp;&nbsp;&nbsp;&nbsp;&nbsp;num = input(\"Enter a number: \")</code><br />\n",
    "    <code>&nbsp;&nbsp;&nbsp;&nbsp;&nbsp;&nbsp;&nbsp;&nbsp;num = int(num)</code><br />\n",
    "    <code>&nbsp;&nbsp;&nbsp;&nbsp;except:</code><br />\n",
    "    <code>&nbsp;&nbsp;&nbsp;&nbsp;&nbsp;&nbsp;&nbsp;&nbsp;if num == \"done\": break</code><br />\n",
    "    <code>&nbsp;&nbsp;&nbsp;&nbsp;&nbsp;&nbsp;&nbsp;&nbsp;else:</code><br />\n",
    "    <code>&nbsp;&nbsp;&nbsp;&nbsp;&nbsp;&nbsp;&nbsp;&nbsp;&nbsp;&nbsp;&nbsp;&nbsp;print(\"Invalid input, please enter a number.\")</code><br />\n",
    "    <code>&nbsp;&nbsp;&nbsp;&nbsp;&nbsp;&nbsp;&nbsp;&nbsp;&nbsp;&nbsp;&nbsp;&nbsp;continue</code><br />\n",
    "    <code>&nbsp;&nbsp;&nbsp;&nbsp;if largest is None or num > largest:</code><br />\n",
    "    <code>&nbsp;&nbsp;&nbsp;&nbsp;&nbsp;&nbsp;&nbsp;&nbsp;largest = num</code><br />\n",
    "    <code>&nbsp;&nbsp;&nbsp;&nbsp;if smallest is None or num < smallest:</code><br />\n",
    "    <code>&nbsp;&nbsp;&nbsp;&nbsp;&nbsp;&nbsp;&nbsp;&nbsp;smallest = num</code><br />\n",
    "    <code>print(\"Maximum is\", largest)</code><br />\n",
    "    <code>print(\"Minimum is\", smallest)</code>\n",
    "</p>\n",
    "</details> "
   ]
  }
 ],
 "metadata": {
  "kernelspec": {
   "display_name": "Python 3 (ipykernel)",
   "language": "python",
   "name": "python3"
  },
  "language_info": {
   "codemirror_mode": {
    "name": "ipython",
    "version": 3
   },
   "file_extension": ".py",
   "mimetype": "text/x-python",
   "name": "python",
   "nbconvert_exporter": "python",
   "pygments_lexer": "ipython3",
   "version": "3.12.3"
  }
 },
 "nbformat": 4,
 "nbformat_minor": 5
}
