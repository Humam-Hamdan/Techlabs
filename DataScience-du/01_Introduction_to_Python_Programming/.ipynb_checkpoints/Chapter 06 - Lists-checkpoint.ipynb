{
 "cells": [
  {
   "cell_type": "markdown",
   "id": "5a8c4d82",
   "metadata": {},
   "source": [
    "# Chapter 6 - Lists\n",
    "### Hey Techie,   \n",
    "Welcome to the sixth notebook of this Python tutorial series. We encourage you to take this notebook as a template to code along the instruction videos, which you may find at: https://www.py4e.com/lessons/lists. Today's three videos deal with how Python simplest data structure works - the list. There is no need to watch the video *Lists, Files, and the Guardian Pattern*. In the end, please try to solve the presented tasks. To do so, you need to understand how to open text files (.txt) in Python. Therefore, please read the following article: https://www.pythontutorial.net/python-basics/python-read-text-file/. If you want to double-check your results, you may also upload them to PY4E. For that, a Google Account is required. On the website, you find the auto-graded code tasks at the very end of each lesson.\n",
    "\n",
    "#### Have fun! :-)   \n",
    "*Video length in total*: 30 minutes   \n",
    "*Self-study time*: 50 minutes   \n",
    "*Total*: **80 minutes**   \n",
    "#### Credits\n",
    "Python for Everybody, Dr. Chuck Severance, https://www.py4e.com/, CC.\n",
    "<hr style=\"border:2px solid gray\"> </hr>   "
   ]
  },
  {
   "cell_type": "markdown",
   "id": "2adc128d-dea8-4eba-9a2f-cfc216e3e6a9",
   "metadata": {},
   "source": [
    "- A list has many variables, the syntax in python `list = [ 'item', 'item', 'item', 13, 3.14, [2.71, 6.24] ]`.\n",
    "\n",
    "- for and lists are usually used together.\n",
    "\n",
    "- strings are immutable.\n",
    "\n",
    "- `len(list)` gives the number of items in a list.\n",
    "\n",
    "- `range()` gives a list of numbers from zero and upto the number n-1 where n is the input.\n",
    "\n",
    "- instead of looping over the list we loop over the range of the len of the list.\n",
    "\n",
    "- the `+` can add lists.\n",
    "\n",
    "- Slicing is the same as in strings, `list[start:end]`.\n",
    "\n",
    "- you can define a list with `list = list()`, then you can append.\n",
    "\n",
    "- you can also you the `in` logical operator.\n",
    "\n",
    "- the `list.sort()` gives you a sorted list.\n",
    "\n",
    "- there are a couple of functions that take a list as an input, such as `len(list)`, `min(list)`, `max(list)`, `sum(list)`\n",
    "\n",
    "- the `string.split()` returns a list with every 'word' as an element.\n",
    "\n",
    "- you can set the split item, i.e. `list.split(' split_key ')`."
   ]
  },
  {
   "cell_type": "markdown",
   "id": "11e677ad",
   "metadata": {},
   "source": [
    "<hr style=\"border:2px solid gray\"> </hr>  \n",
    "\n",
    "## Practice Tasks   \n",
    "#### 1. Open the file data/romeo.txt and read it line by line. For each line, split the line into a list of words using the split() method. The program should build a list of words. For each word on each line check to see if the word is already in the list and if not append it to the list. When the program completes, sort and print the resulting words in alphabetical order.\n",
    "<br /> \n",
    "<details>    \n",
    "<summary>\n",
    "    <font size=\"3\" color=\"red\"><b>Hints (click to expand)</b></font>\n",
    "</summary>\n",
    "<p>\n",
    "    <ul>\n",
    "        <li>Open the file using \"with open(path, \"r\") as file\".</li>\n",
    "        <li>The readlines-method returns a list containing the different lines as elements.</li>\n",
    "        <li>One line can be split into a list of words using the split-method.</li>\n",
    "        <li>Remind yourself of the not in operator.</li>\n",
    "    </ul>\n",
    "</p>\n",
    "</details>"
   ]
  },
  {
   "cell_type": "code",
   "execution_count": 1,
   "id": "1f5fb1ba",
   "metadata": {
    "scrolled": true
   },
   "outputs": [],
   "source": [
    "# START YOUR CODE HERE.\n",
    "romhand = open('./data/romeo.txt', 'r')\n",
    "\n",
    "lines = romhand.readlines()\n",
    "words = list()\n",
    "# No need to strip\n",
    "for j in lines:\n",
    "    words.append(j.split())\n",
    "\n",
    "singles = list()\n",
    "for k in words:\n",
    "    singles = singles + k\n",
    "\n",
    "final = list()\n",
    "for l in singles:\n",
    "    if l not in final:\n",
    "        final.append(l)\n",
    "final.sort()\n",
    "print(final)"
   ]
  },
  {
   "cell_type": "markdown",
   "id": "0e137107",
   "metadata": {},
   "source": [
    "<details>    \n",
    "<summary>\n",
    "    <font size=\"3\" color=\"darkgreen\"><b>Solution (click to expand)</b></font>\n",
    "</summary>\n",
    "<p>\n",
    "    <code>words = []</code><br />\n",
    "    <code>with open(\"data/romeo.txt\", \"r\") as file:</code><br />\n",
    "    <code>&nbsp;&nbsp;&nbsp;&nbsp;file = file.readlines()</code><br />\n",
    "    <code>for line in file:</code><br />\n",
    "    <code>&nbsp;&nbsp;&nbsp;&nbsp;text = line.split()</code><br />\n",
    "    <code>&nbsp;&nbsp;&nbsp;&nbsp;for word in text:</code><br />\n",
    "    <code>&nbsp;&nbsp;&nbsp;&nbsp;&nbsp;&nbsp;&nbsp;&nbsp;if word not in words:</code><br />\n",
    "    <code>&nbsp;&nbsp;&nbsp;&nbsp;&nbsp;&nbsp;&nbsp;&nbsp;&nbsp;&nbsp;&nbsp;&nbsp;words.append(word)</code><br />\n",
    "    <code>print(sorted(words))</code>\n",
    "</p>\n",
    "</details>   \n",
    "  \n",
    "#### 2. Open the file data/mbox-short.txt and read it line by line. When you find a line that starts with \"From \" like the following line:\n",
    "```From stephen.marquard@uct.ac.za Sat Jan  5 09:14:16 2008```\n",
    "#### You will parse the From line using split() and print out the second word in the line (i.e. the entire address of the person who sent the message). Then print out a count at the end. Hint: make sure not to include the lines that start with \"From:\".\n",
    "<br /> \n",
    "<details>    \n",
    "<summary>\n",
    "    <font size=\"3\" color=\"red\"><b>Hints (click to expand)</b></font>\n",
    "</summary>\n",
    "<p>\n",
    "    <ul>\n",
    "        <li>The startswith-method checks whether a string starts with the specified characters and returns True or  False.</li> \n",
    "        <li>What is the continue operator good for?</li>\n",
    "        <li>List indexing starts at 0 and goes up to n-1 if n represents the number of elements.</li>\n",
    "    </ul>\n",
    "</p>\n",
    "</details>"
   ]
  },
  {
   "cell_type": "code",
   "execution_count": null,
   "id": "99584dda",
   "metadata": {},
   "outputs": [],
   "source": [
    "# START YOUR CODE HERE.\n",
    "\n",
    "hfile = open('./data/mbox-short.txt', 'r')\n",
    "\n",
    "file = hfile.readlines()\n",
    "counter = 0\n",
    "for line in file:\n",
    "    if line.startswith('From '):\n",
    "        x = line.split()\n",
    "        print(x[1])\n",
    "        counter += 1\n",
    "print(counter)"
   ]
  },
  {
   "cell_type": "markdown",
   "id": "23b59568",
   "metadata": {},
   "source": [
    "<details>    \n",
    "<summary>\n",
    "    <font size=\"3\" color=\"darkgreen\"><b>Solution (click to expand)</b></font>\n",
    "</summary>\n",
    "<p>\n",
    "    <code>count = 0</code><br />\n",
    "    <code>with open(\"data/mbox-short.txt\", \"r\") as file:</code><br />\n",
    "    <code>&nbsp;&nbsp;&nbsp;&nbsp;file = file.readlines()</code><br />\n",
    "    <code>for line in file:</code><br />\n",
    "    <code>&nbsp;&nbsp;&nbsp;&nbsp;if not line.startswith(\"From \"):</code><br />\n",
    "    <code>&nbsp;&nbsp;&nbsp;&nbsp;&nbsp;&nbsp;&nbsp;&nbsp;continue</code><br />\n",
    "    <code>&nbsp;&nbsp;&nbsp;&nbsp;else:</code><br />\n",
    "    <code>&nbsp;&nbsp;&nbsp;&nbsp;&nbsp;&nbsp;&nbsp;&nbsp;count += 1</code><br />\n",
    "    <code>&nbsp;&nbsp;&nbsp;&nbsp;&nbsp;&nbsp;&nbsp;&nbsp;print(line.split()[1])</code><br />\n",
    "    <code>print(\"There were\", count, \"lines in the file with From as the first word.\")</code><br />\n",
    "</p>\n",
    "</details>   "
   ]
  }
 ],
 "metadata": {
  "kernelspec": {
   "display_name": "Python 3 (ipykernel)",
   "language": "python",
   "name": "python3"
  },
  "language_info": {
   "codemirror_mode": {
    "name": "ipython",
    "version": 3
   },
   "file_extension": ".py",
   "mimetype": "text/x-python",
   "name": "python",
   "nbconvert_exporter": "python",
   "pygments_lexer": "ipython3",
   "version": "3.12.3"
  }
 },
 "nbformat": 4,
 "nbformat_minor": 5
}
