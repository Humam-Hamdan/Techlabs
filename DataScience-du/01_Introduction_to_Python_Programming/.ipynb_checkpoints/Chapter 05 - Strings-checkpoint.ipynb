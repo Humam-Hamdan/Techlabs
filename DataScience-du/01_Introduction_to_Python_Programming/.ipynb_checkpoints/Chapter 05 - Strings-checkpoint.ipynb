{
 "cells": [
  {
   "cell_type": "markdown",
   "id": "1b87b34e",
   "metadata": {},
   "source": [
    "# Chapter 5 - Strings\n",
    "### Hey Techie,   \n",
    "Welcome to the fifth notebook of this Python tutorial series. We encourage you to take this notebook as a template to code along the instruction videos, which you may find at: https://www.py4e.com/lessons/strings. Today's two videos deal with variables and how to store and manipulate text data using variables and functions in Python. There is no need to watch the worked exercise. In the end, please try to solve the presented task. If you want to double-check your results, you may also upload them to PY4E. For that, a Google Account is required. On the website, you find the auto-graded code tasks at the very end of each lesson.\n",
    "\n",
    "#### Have fun! :-)   \n",
    "*Video length in total*: 30 minutes   \n",
    "*Self-study time*: 30 minutes   \n",
    "*Total*: **60 minutes**   \n",
    "#### Credits\n",
    "Python for Everybody, Dr. Chuck Severance, https://www.py4e.com/, CC.\n",
    "<hr style=\"border:2px solid gray\"> </hr>   "
   ]
  },
  {
   "cell_type": "markdown",
   "id": "a4e698ea-4320-4ee6-b92b-317b44cbcffc",
   "metadata": {},
   "source": [
    "- Strings are, as expected, arrays of chars.\n",
    "\n",
    "- as with any array, you need the `[]` to get the value at the `n`-th place.\n",
    "\n",
    "- `len(string)=int` the length.\n",
    "\n",
    "- the less code you write, the more likely you are to be right.\n",
    "\n",
    "- you can 'slice' a string, with `string_name[start_index:end_index+1]` this will return the chunk which starts from start index and ends obviously with end index.\n",
    "\n",
    "- when the slice is bigger than the string there will be no trace back, just the string from the start to the end.\n",
    "\n",
    "- when one of the indexes is not there it will be assumed that we are meaning the first/last index of the string.\n",
    "\n",
    "- you can directly ask if a char is in a string and use it as an if condition ` 'n' in string `.\n",
    "\n",
    "- there are a couple of 'objects methods' for strings, like '.lower()' and '.upper()' for upper and lower case.\n",
    "\n",
    "- `dir(variable_of_type)` gives you the methods for each type.\n",
    "\n",
    "- the `str.find('str')` gives back the position of the start index of the 'str' in the str.\n",
    "\n",
    "- `str.replace('o', 'x')` this is a search and replace function, which replaces each 'o' with an 'x'.\n",
    "\n",
    "- to strip white spaces we use `str.lstrip()` or `str.rstrip()` if we need to strip to the right or the left, but if we want both then a simple `str.strip()` will do.\n",
    "\n",
    "- it even strips tabs and newlines.\n",
    "\n",
    "- `str.startwith('stri')` it is a logical operation, depends on the case of 'stri'.\n",
    "\n",
    "- you can concatenate with the '+' in between strings. This, will, however, not include a space unless manually added.\n",
    "\n",
    "- `str.find('s')` gives the index of the s, if you want to find the first ss after that you use `str.find('ss', x)` where `x` is the index of said 's'.\n"
   ]
  },
  {
   "cell_type": "markdown",
   "id": "55f785a3",
   "metadata": {},
   "source": [
    "<hr style=\"border:2px solid gray\"> </hr>  \n",
    "\n",
    "## Practice Task   \n",
    "#### 1. Write code using find() and string slicing to extract the number at the end of the line below. Convert the extracted value to a floating point number and print it out.\n",
    "<br /> \n",
    "<details>    \n",
    "<summary>\n",
    "    <font size=\"3\" color=\"red\"><b>Hints (click to expand)</b></font>\n",
    "</summary>\n",
    "<p>\n",
    "    <ul>\n",
    "        <li>The find method returns the index of the character you have been searching for.</li>\n",
    "        <li>String slicing starts at zero and ends at n-1 if n refers to the number of characters.</li>\n",
    "        <li>String slicing is applied from including up to excluding.</li>\n",
    "    </ul>\n",
    "</p>\n",
    "</details>"
   ]
  },
  {
   "cell_type": "code",
   "execution_count": 2,
   "id": "71212838",
   "metadata": {},
   "outputs": [],
   "source": [
    "text = \"X-DSPAM-Confidence:    0.8475\"\n",
    "# START YOUR CODE HERE.\n",
    "\n",
    "pos_n = text.find('0')\n",
    "x = text[pos_n:]\n",
    "x_i = float(x)\n",
    "print(x_i, type(x_i))"
   ]
  },
  {
   "cell_type": "markdown",
   "id": "fa62b820",
   "metadata": {},
   "source": [
    "<details>    \n",
    "<summary>\n",
    "    <font size=\"3\" color=\"darkgreen\"><b>Solution (click to expand)</b></font>\n",
    "</summary>\n",
    "<p>\n",
    "    <code>text = \"X-DSPAM-Confidence:    0.8475\"</code><br />\n",
    "    <code>pos = text.find(\"0\")</code><br />\n",
    "    <code>num = float(text[pos:])</code><br />\n",
    "    <code>print(num)</code><br />\n",
    "</p>\n",
    "</details> "
   ]
  }
 ],
 "metadata": {
  "kernelspec": {
   "display_name": "Python 3 (ipykernel)",
   "language": "python",
   "name": "python3"
  },
  "language_info": {
   "codemirror_mode": {
    "name": "ipython",
    "version": 3
   },
   "file_extension": ".py",
   "mimetype": "text/x-python",
   "name": "python",
   "nbconvert_exporter": "python",
   "pygments_lexer": "ipython3",
   "version": "3.12.3"
  }
 },
 "nbformat": 4,
 "nbformat_minor": 5
}
