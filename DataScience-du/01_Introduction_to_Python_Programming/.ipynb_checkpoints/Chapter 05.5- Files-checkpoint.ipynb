{
 "cells": [
  {
   "cell_type": "markdown",
   "id": "e7375444-3044-4c94-b414-f800d7f49c86",
   "metadata": {},
   "source": [
    "# Chapter 5.5 - Files\n",
    "\n",
    "<hr style=\"border:2px solid gray\"> </hr>   "
   ]
  },
  {
   "cell_type": "markdown",
   "id": "50fdada9-c400-40c8-9a0a-c576476785c4",
   "metadata": {},
   "source": [
    "\n",
    "- `open()` returns a file handle, which makes reading possible, it takes the file name and the mode.\n",
    "\n",
    "- '\\n' is the newline operator.\n",
    "\n",
    "- you can use the for loop to read the file line by line.\n",
    "\n",
    "- newlines are white spaces and strippable with `rstrip()`.\n",
    "\n",
    "- if your except blows the entire program up, use `quit()` at the end of it to terminate the program.\n",
    "\n",
    "- any process on a blank line explodes usually, so take case.\n",
    "\n",
    "- any logical evaluation starts from the first condition.\n"
   ]
  }
 ],
 "metadata": {
  "kernelspec": {
   "display_name": "Python 3 (ipykernel)",
   "language": "python",
   "name": "python3"
  },
  "language_info": {
   "codemirror_mode": {
    "name": "ipython",
    "version": 3
   },
   "file_extension": ".py",
   "mimetype": "text/x-python",
   "name": "python",
   "nbconvert_exporter": "python",
   "pygments_lexer": "ipython3",
   "version": "3.12.3"
  }
 },
 "nbformat": 4,
 "nbformat_minor": 5
}
