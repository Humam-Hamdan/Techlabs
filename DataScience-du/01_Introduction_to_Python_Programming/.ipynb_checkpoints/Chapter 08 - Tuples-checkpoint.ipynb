{
 "cells": [
  {
   "cell_type": "markdown",
   "id": "1b87b34e",
   "metadata": {},
   "source": [
    "# Chapter 8 - Tuples\n",
    "### Hey Techie,   \n",
    "Welcome to the eigth notebook of this Python tutorial series. We encourage you to take this notebook as a template to code along the instruction videos, which you may find at: https://www.py4e.com/lessons/tuples. Today's two videos deal with tuples that are very similar to lists but more efficient. There is no need to watch the video *Sorting a Dictionary Using Tuples*. In the end, please try to solve the presented task. If you want to double-check your results, you may also upload them to PY4E. For that, a Google Account is required. On the website, you find the auto-graded code tasks at the very end of each lesson.\n",
    "\n",
    "#### Have fun! :-)   \n",
    "*Video length in total*: 23 minutes   \n",
    "*Self-study time*: 23 minutes   \n",
    "*Total*: **46 minutes**   \n",
    "#### Credits\n",
    "Python for Everybody, Dr. Chuck Severance, https://www.py4e.com/, CC.\n",
    "<hr style=\"border:2px solid gray\"> </hr>   "
   ]
  },
  {
   "cell_type": "markdown",
   "id": "c1c4c3d2-2e80-44bc-bb1b-b8b881fa67ba",
   "metadata": {},
   "source": [
    "- you can take a dict, reverse key,value tuples and then sort over it.\n",
    "\n",
    "- you can use `sorted(list, reverse=True)` to reverse an order, but then even the alphabet will be reversed.\n",
    "\n",
    "- a tuple is like a list but with `tuple = ()` instead of `list = []`, however, a tuple is immutable.\n",
    "\n",
    "- they are used since they are more efficient than lists.\n",
    "\n",
    "- you can only use `.count() , .index()` for tuples.\n",
    "\n",
    "- when we use tmp variables we just use tuples.\n",
    "\n",
    "- we can put the tuple on the left side, like this `a,b = 99,88`.\n",
    "\n",
    "- you can return a tuple from a function! -yay, no more void functions :)-.\n",
    "\n",
    "- they are comparable like strings, so we only see till either or is fulfilled and we break immediately.\n",
    "\n",
    "- if you need to sort a dict we usually take it to a list of tuples, sort there and return.\n",
    "\n",
    "- a one line that does this is as follows `print( sorted( [ (v, k) for k, v in dict.items() ] ) )`.\n"
   ]
  },
  {
   "cell_type": "markdown",
   "id": "55f785a3",
   "metadata": {},
   "source": [
    "<hr style=\"border:2px solid gray\"> </hr>  \n",
    "\n",
    "## Practice Task   \n",
    "#### 1. Write a program to read through the data/mbox-short.txt and figure out the distribution by hour of the day for each of the messages. You can pull the hour out from the 'From ' line by finding the time and then splitting the string a second time using a colon.\n",
    "```From stephen.marquard@uct.ac.za Sat Jan  5 09:14:16 2008```\n",
    "#### Once you have accumulated the counts for each hour, print out the counts, sorted by hour in the following format: Hour: Count.\n",
    "<br /> \n",
    "<details>    \n",
    "<summary>\n",
    "    <font size=\"3\" color=\"red\"><b>Hints (click to expand)</b></font>\n",
    "</summary>\n",
    "<p>\n",
    "    <ul>\n",
    "        <li>Can you reuse code you have already written?</li>\n",
    "        <li>Remind yourself of list indexing.</li>\n",
    "        <li>Remind yourself of the get-method to access values in dictionaries.</li>\n",
    "        <li>What does the items-method return if it is called on a dictionary?</li>\n",
    "    </ul>\n",
    "</p>\n",
    "</details>"
   ]
  },
  {
   "cell_type": "code",
   "execution_count": null,
   "id": "71212838",
   "metadata": {},
   "outputs": [],
   "source": [
    "# START YOUR CODE HERE.\n",
    "\n",
    "hfile = open('./data/mbox-short.txt', 'r')\n",
    "\n",
    "file = hfile.readlines()\n",
    "\n",
    "dict = {}\n",
    "times = []\n",
    "for line in file:\n",
    "    if line.startswith('From '):\n",
    "        times.append(line.split()[5])\n",
    "for time in times:\n",
    "    y = time.split(\":\")[0]\n",
    "    dict[y] = dict.get(y, 0) + 1\n",
    "\n",
    "\n",
    "templist = []\n",
    "for k, v in dict.items():\n",
    "    templist.append((v, k))\n",
    "templist = sorted(templist)\n",
    "\n",
    "for v, k in templist:\n",
    "    print('Hour:', k, 'Count:', v)"
   ]
  },
  {
   "cell_type": "markdown",
   "id": "fa62b820",
   "metadata": {},
   "source": [
    "<details>\n",
    "<summary>\n",
    "    <font size=\"3\" color=\"darkgreen\"><b>Solution (click to expand)</b></font>\n",
    "</summary>\n",
    "<p>\n",
    "    <code>hour_counts = {}</code><br />\n",
    "    <code>with open(\"data/mbox-short.txt\", \"r\") as file:</code><br />\n",
    "    <code>&nbsp;&nbsp;&nbsp;&nbsp;file = file.readlines()</code><br />\n",
    "    <code>for line in file:</code><br />\n",
    "    <code>&nbsp;&nbsp;&nbsp;&nbsp;if not line.startswith(\"From \"):</code><br />\n",
    "    <code>&nbsp;&nbsp;&nbsp;&nbsp;&nbsp;&nbsp;&nbsp;&nbsp;continue</code><br />\n",
    "    <code>&nbsp;&nbsp;&nbsp;&nbsp;time = line.split()[5][:2]</code><br />\n",
    "    <code>&nbsp;&nbsp;&nbsp;&nbsp;hour_counts[time] = hour_counts.get(time, 0) + 1</code><br />\n",
    "    <code>for key, value in sorted(list(hour_counts.items())):</code><br />\n",
    "    <code>&nbsp;&nbsp;&nbsp;&nbsp;print(key, value)</code><br />\n",
    "</p>\n",
    "</details> "
   ]
  }
 ],
 "metadata": {
  "kernelspec": {
   "display_name": "Python 3 (ipykernel)",
   "language": "python",
   "name": "python3"
  },
  "language_info": {
   "codemirror_mode": {
    "name": "ipython",
    "version": 3
   },
   "file_extension": ".py",
   "mimetype": "text/x-python",
   "name": "python",
   "nbconvert_exporter": "python",
   "pygments_lexer": "ipython3",
   "version": "3.12.3"
  }
 },
 "nbformat": 4,
 "nbformat_minor": 5
}
