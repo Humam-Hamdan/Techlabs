{
 "cells": [
  {
   "cell_type": "markdown",
   "id": "1b87b34e",
   "metadata": {},
   "source": [
    "# Chapter 7 - Dictionaries\n",
    "### Hey Techie,   \n",
    "Welcome to the seventh notebook of this Python tutorial series. We encourage you to take this notebook as a template to code along the instruction videos, which you may find at: https://www.py4e.com/lessons/dictionary. Today's three videos deal with dictionaries and how to use them to store key-value associations. There is no need to watch the video *Counting Word Frequency using a Dictionary*. In the end, please try to solve the presented task. If you want to double-check your results, you may also upload them to PY4E. For that, a Google Account is required. On the website, you find the auto-graded code tasks at the very end of each lesson.\n",
    "\n",
    "#### Have fun! :-)   \n",
    "*Video length in total*: 30 minutes   \n",
    "*Self-study time*: 30 minutes   \n",
    "*Total*: **60 minutes**   \n",
    "#### Credits\n",
    "Python for Everybody, Dr. Chuck Severance, https://www.py4e.com/, CC.\n",
    "<hr style=\"border:2px solid gray\"> </hr>   "
   ]
  },
  {
   "cell_type": "markdown",
   "id": "a852328e-e946-46dc-b68c-7c1a608f6e05",
   "metadata": {},
   "source": [
    "- a dictionary is a type of collection.\n",
    "\n",
    "- a dict is a key-value pairing.\n",
    "\n",
    "- you can search in a dict with a key.\n",
    "\n",
    "- you need to pick a label and a value.\n",
    "\n",
    "- `dict['key'] = value` is how to add a pair.\n",
    "\n",
    "- to init a dict `dict = {}`.\n",
    "\n",
    "- a dict is implemented with a hashmap.\n",
    "\n",
    "- one of the usual uses is the Histogram.\n",
    "\n",
    "- one common way to use dicts is counting the number of 'how many' is the element seen.\n",
    "\n",
    "- in a dict you can not look for an element which does not exist, yet you can use the `in` operator.\n",
    "\n",
    "- `dict.get(key, default)` if the key exists you get the value or you get the default.\n",
    "\n",
    "- for a count we usually use `dict[key] = dict.get(key, 0) + 1`.\n",
    "\n",
    "- to count words in a text we usually split the lines into words and go from there.\n",
    "\n",
    "- a `list(dict.keys())` will give back a list with the keys.\n",
    "\n",
    "- similarly a `list(dict.values())` returns a list with values.\n",
    "\n",
    "- also, a `list(dict.items())` returns a list with the key-value tuple.\n",
    "\n",
    "- then, you can iterate like this `for a,b in dict.items() : print(a,b)` (python only).\n"
   ]
  },
  {
   "cell_type": "markdown",
   "id": "55f785a3",
   "metadata": {},
   "source": [
    "<hr style=\"border:2px solid gray\"> </hr>  \n",
    "\n",
    "## Practice Task   \n",
    "#### 1. Write a program to read through the data/mbox-short.txt and figure out who has sent the greatest number of mail messages. The program looks for 'From ' lines and takes the second word of those lines as the person who sent the mail. The program creates a Python dictionary that maps the sender's mail address to a count of the number of times they appear in the file. After the dictionary is produced, the program reads through the dictionary using a maximum loop to find the most prolific committer.\n",
    "<br /> \n",
    "<details>    \n",
    "<summary>\n",
    "    <font size=\"3\" color=\"red\"><b>Hints (click to expand)</b></font>\n",
    "</summary>\n",
    "<p>\n",
    "    <ul>\n",
    "        <li>Can you reuse code you have already written?</li>\n",
    "        <li>Remind yourself of the get-method to access values in dictionaries.</li>\n",
    "        <li>What does the items-method return if it is called on a dictionary?</li>\n",
    "    </ul>\n",
    "</p>\n",
    "</details>"
   ]
  },
  {
   "cell_type": "code",
   "execution_count": 9,
   "id": "71212838",
   "metadata": {},
   "outputs": [],
   "source": [
    "# START YOUR CODE HERE.\n",
    "hfile = open('./data/mbox-short.txt', 'r')\n",
    "\n",
    "file = hfile.readlines()\n",
    "\n",
    "dict = {}\n",
    "\n",
    "for line in file:\n",
    "    if line.startswith('From '):\n",
    "        x = line.split()\n",
    "        dict[x[1]] = dict.get(x[1], 0) + 1\n",
    "\n",
    "maxnum = -1\n",
    "maxwrd = None\n",
    "for key, value in dict.items():\n",
    "    if value > maxnum:\n",
    "        maxnum = value\n",
    "        maxwrd = key\n",
    "\n",
    "print(maxwrd, maxnum)"
   ]
  },
  {
   "cell_type": "markdown",
   "id": "fa62b820",
   "metadata": {},
   "source": [
    "<details>    \n",
    "<summary>\n",
    "    <font size=\"3\" color=\"darkgreen\"><b>Solution (click to expand)</b></font>\n",
    "</summary>\n",
    "<p>\n",
    "    <code>email_counts = {}</code><br />\n",
    "    <code>with open(\"data/mbox-short.txt\", \"r\") as file:</code><br />\n",
    "    <code>&nbsp;&nbsp;&nbsp;&nbsp;file = file.readlines()</code><br />\n",
    "    <code>for line in file:</code><br />\n",
    "    <code>&nbsp;&nbsp;&nbsp;&nbsp;if not line.startswith(\"From \"):</code><br />\n",
    "    <code>&nbsp;&nbsp;&nbsp;&nbsp;&nbsp;&nbsp;&nbsp;&nbsp;continue</code><br />\n",
    "    <code>&nbsp;&nbsp;&nbsp;&nbsp;adress = line.split()[1]</code><br />\n",
    "    <code>&nbsp;&nbsp;&nbsp;&nbsp;email_counts[adress] = email_counts.get(adress, 0) + 1</code><br />\n",
    "    <code>biggest_key = None</code><br />\n",
    "    <code>biggest_value = None</code><br />\n",
    "    <code>for key, value in email_counts.items():</code><br />\n",
    "    <code>&nbsp;&nbsp;&nbsp;&nbsp;if biggest_value is None or value > biggest_value:</code><br />\n",
    "    <code>&nbsp;&nbsp;&nbsp;&nbsp;&nbsp;&nbsp;&nbsp;&nbsp;biggest_key = key</code><br />\n",
    "    <code>&nbsp;&nbsp;&nbsp;&nbsp;biggest_value = value</code><br />\n",
    "    <code>print(biggest_key, biggest_value)</code><br />\n",
    "    <code></code><br />\n",
    "    <code># SHORT FORM TO FILTER OUT THE MAXIMUM:</code><br />\n",
    "    <code>biggest_key, biggest_value = sorted(email_counts.items(), key = lambda x: -x[1])[0]</code><br />\n",
    "    <code>print(biggest_key, biggest_value)</code><br />\n",
    "</p>\n",
    "</details> "
   ]
  }
 ],
 "metadata": {
  "kernelspec": {
   "display_name": "Python 3 (ipykernel)",
   "language": "python",
   "name": "python3"
  },
  "language_info": {
   "codemirror_mode": {
    "name": "ipython",
    "version": 3
   },
   "file_extension": ".py",
   "mimetype": "text/x-python",
   "name": "python",
   "nbconvert_exporter": "python",
   "pygments_lexer": "ipython3",
   "version": "3.12.3"
  }
 },
 "nbformat": 4,
 "nbformat_minor": 5
}
