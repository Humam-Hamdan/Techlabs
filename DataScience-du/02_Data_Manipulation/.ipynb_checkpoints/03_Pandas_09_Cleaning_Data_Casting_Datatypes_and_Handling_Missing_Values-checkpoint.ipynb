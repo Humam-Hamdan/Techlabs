{
 "cells": [
  {
   "cell_type": "markdown",
   "id": "bb20ffa2",
   "metadata": {},
   "source": [
    "# Chapter 9 - Cleaning Data - Casting Datatypes and Handling Missing Values\n",
    "### Hey Techie,   \n",
    "Welcome to the ninth notebook of this Pandas tutorial series. We encourage you to take this notebook as a template to code along the instruction video, which you may find at: https://youtu.be/KdmPHEnPJPs. In the instruction video's first half, Corey explains how to clean data within DataFrames. Afterward, he demonstrates the new skills with the real-world example which we already know. As always, at the end of this notebook are practice tasks to test your skills.     \n",
    "\n",
    "**Here you may find the Pandas documentation:** https://pandas.pydata.org/docs/reference/index.html\n",
    "\n",
    "#### Have fun! :-)   \n",
    "    \n",
    "*Video length*: 32 minutes   \n",
    "*Self-study time*: 32 minutes   \n",
    "*Total*: **64 minutes**\n",
    "<hr style=\"border:2px solid gray\"> </hr>   \n",
    "\n",
    "## Code-Snippets"
   ]
  },
  {
   "cell_type": "code",
   "execution_count": 1,
   "id": "f4fdd5ef",
   "metadata": {},
   "outputs": [],
   "source": [
    "# This is the convention used to import Pandas.\n",
    "import pandas as pd\n",
    "# OTHER LIBRARIES.\n",
    "import numpy as np"
   ]
  },
  {
   "cell_type": "code",
   "execution_count": null,
   "id": "d07414d6",
   "metadata": {},
   "outputs": [],
   "source": [
    "people = {\n",
    "    'first': ['Corey', 'Jane', 'John', 'Chris', np.nan, None, 'NA'], \n",
    "    'last': ['Schafer', 'Doe', 'Doe', 'Schafer', np.nan, np.nan, 'Missing'], \n",
    "    'email': ['CoreyMSchafer@gmail.com', 'JaneDoe@email.com', 'JohnDoe@email.com', \n",
    "              None, np.nan, 'Anonymous@email.com', 'NA'],\n",
    "    'age': ['33', '55', '63', '36', None, None, 'Missing']\n",
    "}\n",
    "pdf = pd.DataFrame(people)"
   ]
  },
  {
   "cell_type": "code",
   "execution_count": null,
   "id": "7be82032",
   "metadata": {},
   "outputs": [],
   "source": [
    "# START YOUR CODE HERE."
   ]
  },
  {
   "cell_type": "code",
   "execution_count": null,
   "id": "e1da9d8d-615b-4633-bcb6-682a4eda59d2",
   "metadata": {},
   "outputs": [],
   "source": [
    "pdf"
   ]
  },
  {
   "cell_type": "code",
   "execution_count": null,
   "id": "90306904-440d-4c0b-95ac-37c660b3e4c7",
   "metadata": {},
   "outputs": [],
   "source": [
    "pdf.dropna()"
   ]
  },
  {
   "cell_type": "markdown",
   "id": "5a406e1f-f674-4ccc-ab19-457b0f2ba3a7",
   "metadata": {},
   "source": [
    "if we run pdf.dropna( index='columns' ) then we will get the whole pdf"
   ]
  },
  {
   "cell_type": "markdown",
   "id": "1dbe128a-4247-41f9-82b1-c219d66696e0",
   "metadata": {},
   "source": [
    "if you make it drop over pdf with any then the retuned df is a null df"
   ]
  },
  {
   "cell_type": "code",
   "execution_count": null,
   "id": "e8521c5d-290f-4908-88f4-86e03f36657e",
   "metadata": {},
   "outputs": [],
   "source": [
    "pdf.replace('NA', np.nan, inplace=True)\n",
    "pdf.replace('Missing', np.nan, inplace=True)\n",
    "pdf"
   ]
  },
  {
   "cell_type": "code",
   "execution_count": null,
   "id": "9ef34d7e-bdd1-4f0b-bd6f-0223ad1650a3",
   "metadata": {},
   "outputs": [],
   "source": [
    "pdf.isna()"
   ]
  },
  {
   "cell_type": "code",
   "execution_count": null,
   "id": "37e3e24b-8788-4c2a-979a-3b26d6cb05fc",
   "metadata": {},
   "outputs": [],
   "source": [
    "pdf.fillna('MissinG')"
   ]
  },
  {
   "cell_type": "code",
   "execution_count": null,
   "id": "8d1fdb6a-b913-414d-9f53-3715d6131dfe",
   "metadata": {},
   "outputs": [],
   "source": [
    "pdf.dtypes"
   ]
  },
  {
   "cell_type": "code",
   "execution_count": null,
   "id": "c9b59645-999b-477c-a4dd-0f6beb57d39c",
   "metadata": {},
   "outputs": [],
   "source": [
    "pdf['age'] = pdf['age'].astype(float)\n",
    "pdf"
   ]
  },
  {
   "cell_type": "code",
   "execution_count": null,
   "id": "f082bd1d-7129-4621-a1a1-81927e400ef1",
   "metadata": {},
   "outputs": [],
   "source": [
    "pdf['age'].mean()"
   ]
  },
  {
   "cell_type": "markdown",
   "id": "133675c9",
   "metadata": {},
   "source": [
    "<hr style=\"border:2px solid gray\"> </hr>   \n",
    "    \n",
    "## Real-word Example"
   ]
  },
  {
   "cell_type": "code",
   "execution_count": 2,
   "id": "c74badcc",
   "metadata": {},
   "outputs": [],
   "source": [
    "# These options help us to inspect our data more easily.\n",
    "pd.set_option(\"display.max_columns\", 85)\n",
    "pd.set_option(\"display.max_rows\", 85)"
   ]
  },
  {
   "cell_type": "code",
   "execution_count": 3,
   "id": "322d973b",
   "metadata": {},
   "outputs": [],
   "source": [
    "# These commands load the same survey data Corey is using in his video.\n",
    "df = pd.read_csv(\"data/survey_results_public.csv\", index_col = \"Respondent\")\n",
    "schema_df = pd.read_csv(\"data/survey_results_schema.csv\", index_col = \"Column\")"
   ]
  },
  {
   "cell_type": "code",
   "execution_count": null,
   "id": "7777a794",
   "metadata": {},
   "outputs": [],
   "source": [
    "# START YOUR CODE HERE."
   ]
  },
  {
   "cell_type": "code",
   "execution_count": null,
   "id": "eb4d09f1-ce76-4071-9bd0-e926a0f8bc97",
   "metadata": {},
   "outputs": [],
   "source": [
    "na_values = [ 'NA', 'Missing' ]"
   ]
  },
  {
   "cell_type": "code",
   "execution_count": null,
   "id": "99f23ab0-8291-48b0-a117-2904cc5db631",
   "metadata": {},
   "outputs": [],
   "source": [
    "df['YearsCode'].head(10)"
   ]
  },
  {
   "cell_type": "code",
   "execution_count": null,
   "id": "1c8cb924-f4c8-4691-93f8-53f2592d8ebb",
   "metadata": {},
   "outputs": [],
   "source": [
    "df['YearsCode'].unique()"
   ]
  },
  {
   "cell_type": "code",
   "execution_count": null,
   "id": "d13f3b5a-0c92-447b-b634-c8634677058f",
   "metadata": {},
   "outputs": [],
   "source": [
    "df['YearsCode'].replace('Less than 1 year', 0, inplace=True)\n",
    "df['YearsCode'].replace('More than 50 years', 51, inplace=True)"
   ]
  },
  {
   "cell_type": "code",
   "execution_count": null,
   "id": "4c2dfd86-80c4-45de-a862-7b5c78793883",
   "metadata": {},
   "outputs": [],
   "source": [
    "df['YearsCode'] = df['YearsCode'].astype(float)"
   ]
  },
  {
   "cell_type": "code",
   "execution_count": null,
   "id": "44f62089-2aaf-48a3-a1db-03502a0f029d",
   "metadata": {},
   "outputs": [],
   "source": [
    "df['YearsCode'].unique()"
   ]
  },
  {
   "cell_type": "code",
   "execution_count": null,
   "id": "41b9a36d-3a0f-4cd1-8047-7f8a34020b09",
   "metadata": {},
   "outputs": [],
   "source": [
    "df['YearsCode'].mean()"
   ]
  },
  {
   "cell_type": "markdown",
   "id": "4b97ba1c",
   "metadata": {},
   "source": [
    "<hr style=\"border:2px solid gray\"> </hr>   \n",
    "   \n",
    "## Practice Tasks   "
   ]
  },
  {
   "cell_type": "code",
   "execution_count": 6,
   "id": "a15892dc",
   "metadata": {},
   "outputs": [],
   "source": [
    "# Load a clean DataFrame.\n",
    "df = pd.read_csv(\"data/survey_results_public.csv\", index_col = \"Respondent\")"
   ]
  },
  {
   "cell_type": "markdown",
   "id": "76e89bef",
   "metadata": {},
   "source": [
    "#### 1. The survey DataFrame's index ranges from 1 to n, where n corresponds to the number of survey participants. Drop every row from the DataFrame where the questions Country, YearsCode, and ConvertedComp have not been answered. Do not make this drop in place but instead assign the cleaned DataFrame to a new variable named *cleaned_df*. Your final goal is to store the dropped indexes (i.e., 2679, 4271, etc.) in a list called *dropped_indexes*.\n",
    "<br /> \n",
    "<details>    \n",
    "<summary>\n",
    "    <font size=\"3\" color=\"red\"><b>Hints (click to expand)</b></font>\n",
    "</summary>\n",
    "<p>\n",
    "    <ul>\n",
    "        <li>To solve this task, you need to set three parameters within the dropna-method: axis, how, and subset.</li>\n",
    "        <li>One can access a DataFrame's index by calling the index attribute (i.e., df.index).</li>\n",
    "        <li>A DataFrame's index can be treated the same as a list.</li>\n",
    "        <li>To check whether a list contains a specific element, one can use the in operator (i.e., if element in list).</li>\n",
    "    </ul>\n",
    "</p>\n",
    "</details>"
   ]
  },
  {
   "cell_type": "code",
   "execution_count": null,
   "id": "009c48ba",
   "metadata": {},
   "outputs": [],
   "source": [
    "# START YOUR CODE HERE.\n",
    "\n",
    "df['YearsCode'] = df['YearsCode'].replace(['Less than 1 year', 0]) \n",
    "df['YearsCode'] = df['YearsCode'].replace(['More than 50 years', 51])\n",
    "df['YearsCode'] = df['YearsCode'].astype(float)"
   ]
  },
  {
   "cell_type": "code",
   "execution_count": null,
   "id": "302d7222-ad01-427f-914f-af2d99f4e244",
   "metadata": {},
   "outputs": [],
   "source": [
    "na_vals = ['Country', 'YearsCode', 'ConvertedComp']\n",
    "cleaned_df = df.dropna(how='all',subset=na_vals)\n",
    "dropped_indexes = list()"
   ]
  },
  {
   "cell_type": "code",
   "execution_count": null,
   "id": "cced85d3-5b1a-4097-b678-fe98ff910566",
   "metadata": {},
   "outputs": [],
   "source": [
    "for i in df.index: \n",
    "    if i not in cleaned_df.index: \n",
    "        dropped_indexes.append(i)\n",
    "dropped_indexes\n",
    "# END YOUR CODE HERE."
   ]
  },
  {
   "cell_type": "code",
   "execution_count": null,
   "id": "58dc0687",
   "metadata": {},
   "outputs": [],
   "source": [
    "# THIS CELL TESTS YOUR RESULTS.\n",
    "assert cleaned_df.shape == (88751, 84), \"Your drop seems to be incorrect!\"\n",
    "assert len(dropped_indexes) == 132, \"Your dropped_indexes list seems to have the wrong length!\"\n",
    "assert 12032 in dropped_indexes, \"Your dropped_indexes list does not contain every index!\"\n",
    "assert 57311 in dropped_indexes, \"Your dropped_indexes list does not contain every index!\"\n",
    "assert 73522 in dropped_indexes, \"Your dropped_indexes list does not contain every index!\"\n",
    "assert 88802 in dropped_indexes, \"Your dropped_indexes list does not contain every index!\""
   ]
  },
  {
   "cell_type": "markdown",
   "id": "7adbc997",
   "metadata": {},
   "source": [
    "<details>    \n",
    "<summary>\n",
    "    <font size=\"3\" color=\"darkgreen\"><b>Solution (click to expand)</b></font>\n",
    "</summary>\n",
    "<p>\n",
    "    <code>cleaned_df = df.dropna(axis = 0, how = \"all\", subset = [\"Country\", \"YearsCode\", \"ConvertedComp\"])</code><br />\n",
    "    <code>dropped_indexes = [index for index in df.index if index not in cleaned_df.index]</code><br />\n",
    "</p>\n",
    "</details>   \n",
    "   \n",
    "#### 2. On average, when did participants write their first line of code (Age1stCode column)? To answer this question, replace \"younger than\" and \"older than\" statements within the YearsCode column with the nearest age. For example, \"older than 45\" would become 46. Store the mean in a variable named *mean_age_code*.\n",
    "<br /> \n",
    "<details>    \n",
    "<summary>\n",
    "    <font size=\"3\" color=\"red\"><b>Hints (click to expand)</b></font>\n",
    "</summary>\n",
    "<p>\n",
    "    <ul>\n",
    "        <li>Remind yourself of the unique method which is applicable to Series objects.</li>\n",
    "        <li>One needs to make replace-statements using Pandas in place or assign them to an existing/new Series object/DataFrame.</li>\n",
    "        <li>You need to convert the Age1stCode column to float since NaN values are handled as float values.</li>\n",
    "    </ul>\n",
    "</p>\n",
    "</details>"
   ]
  },
  {
   "cell_type": "code",
   "execution_count": 12,
   "id": "1f491ff6",
   "metadata": {},
   "outputs": [
    {
     "data": {
      "text/plain": [
       "array([10., 17., 22., 16., 14., 15., 11., 20., 13., 18., 12., 19., 21.,\n",
       "        8., 35.,  6.,  9., 29.,  7.,  5., 23., 30., nan, 27., 24.,  4.,\n",
       "       33., 25., 26., 39., 36., 38., 28., 31., 86., 32., 37., 50., 65.,\n",
       "       42., 34., 40., 67., 43., 44., 60., 46., 45., 49., 51., 41., 55.,\n",
       "       83., 48., 53., 54., 47., 56., 79., 61., 68., 77., 66., 52., 80.,\n",
       "       62., 84., 57., 58., 63.])"
      ]
     },
     "execution_count": 12,
     "metadata": {},
     "output_type": "execute_result"
    }
   ],
   "source": [
    "# START YOUR CODE HERE.\n",
    "\n",
    "df['Age1stCode'] = df['Age1stCode'].replace({'Younger than 5 years': '4', 'Older than 85': '86'})\n",
    "df['Age1stCode'] = df['Age1stCode'].astype(float)\n",
    "df['Age1stCode'].unique()"
   ]
  },
  {
   "cell_type": "code",
   "execution_count": 16,
   "id": "76db27fb-429d-49cd-84dc-48ab79bfa3ec",
   "metadata": {},
   "outputs": [],
   "source": [
    "mean_age_code = df['Age1stCode'].mean()\n",
    "# END YOUR CODE HERE."
   ]
  },
  {
   "cell_type": "code",
   "execution_count": 15,
   "id": "32ea9934",
   "metadata": {
    "scrolled": true
   },
   "outputs": [],
   "source": [
    "# THIS CELL TESTS YOUR RESULTS.\n",
    "assert df[\"Age1stCode\"].dtype == float, \"You need to change the column's data type!\"\n",
    "assert round(mean_age_code, 2) == 15.41, \"Your result seems to be incorrect!\"\n",
    "assert len(str(mean_age_code)) == 18, \"Your result seems to be incorrect!\""
   ]
  },
  {
   "cell_type": "markdown",
   "id": "f59624ab",
   "metadata": {},
   "source": [
    "<details>    \n",
    "<summary>\n",
    "    <font size=\"3\" color=\"darkgreen\"><b>Solution (click to expand)</b></font>\n",
    "</summary>\n",
    "<p>\n",
    "    <code>df[\"Age1stCode\"].replace(\"Younger than 5 years\", 4, inplace = True)</code><br />\n",
    "    <code>df[\"Age1stCode\"].replace(\"Older than 85\", 86, inplace = True)</code><br />\n",
    "    <code>df[\"Age1stCode\"] = df[\"Age1stCode\"].astype(float)</code><br />\n",
    "    <code>mean_age_code = df[\"Age1stCode\"].mean()</code><br />\n",
    "</p>\n",
    "</details>"
   ]
  }
 ],
 "metadata": {
  "kernelspec": {
   "display_name": "Python 3 (ipykernel)",
   "language": "python",
   "name": "python3"
  },
  "language_info": {
   "codemirror_mode": {
    "name": "ipython",
    "version": 3
   },
   "file_extension": ".py",
   "mimetype": "text/x-python",
   "name": "python",
   "nbconvert_exporter": "python",
   "pygments_lexer": "ipython3",
   "version": "3.12.3"
  }
 },
 "nbformat": 4,
 "nbformat_minor": 5
}
