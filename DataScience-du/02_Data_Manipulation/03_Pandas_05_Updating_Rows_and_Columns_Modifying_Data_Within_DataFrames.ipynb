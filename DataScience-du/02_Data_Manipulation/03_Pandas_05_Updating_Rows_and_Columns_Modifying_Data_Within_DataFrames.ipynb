{
 "cells": [
  {
   "cell_type": "markdown",
   "id": "bb20ffa2",
   "metadata": {},
   "source": [
    "# Chapter 5 - Updating Rows and Columns - Modifying Data Within DataFrames  \n",
    "### Hey Techie,   \n",
    "Welcome to the fifth notebook of this Pandas tutorial series. We encourage you to take this notebook as a template to code along the instruction video, which you may find at: https://youtu.be/DCDe29sIKcE. The video deals with how to change values within Series objects and DataFrames. The underlying principles are first explained along a simple example and then applied to the real dataset we already know. At the end, as always, there are practical tasks, this time also two, to which you can write short answers as well.   \n",
    "\n",
    "**Here you may find the Pandas documentation:** https://pandas.pydata.org/docs/reference/index.html\n",
    "\n",
    "#### Have fun! :-)   \n",
    "    \n",
    "*Video length*: 40 minutes   \n",
    "*Self-study time*: 40 minutes   \n",
    "*Total*: **80 minutes**\n",
    "<hr style=\"border:2px solid gray\"> </hr>   \n",
    "\n",
    "## Code-Snippets"
   ]
  },
  {
   "cell_type": "code",
   "execution_count": null,
   "id": "f4fdd5ef",
   "metadata": {},
   "outputs": [],
   "source": [
    "# This is the convention used to import Pandas.\n",
    "import pandas as pd"
   ]
  },
  {
   "cell_type": "code",
   "execution_count": null,
   "id": "d07414d6",
   "metadata": {},
   "outputs": [],
   "source": [
    "people = {\n",
    "    \"first\": [\"Corey\", 'Jane', 'John'], \n",
    "    \"last\": [\"Schafer\", 'Doe', 'Doe'], \n",
    "    \"email\": [\"CoreyMSchafer@gmail.com\", 'JaneDoe@email.com', 'JohnDoe@email.com']\n",
    "}"
   ]
  },
  {
   "cell_type": "code",
   "execution_count": null,
   "id": "7be82032",
   "metadata": {},
   "outputs": [],
   "source": [
    "pdf = pd.DataFrame(people)\n",
    "\n",
    "# START YOUR CODE HERE.\n",
    "\n",
    "# How to update data\n",
    "\n",
    "pdf.columns\n",
    "\n",
    "# to change all of the columns\n",
    "pdf.columns = ['name', ...]\n",
    "\n",
    "# switch case, replace text\n",
    "pdf.columns = [x.upper() for x in pdf.columns]\n",
    "pdf.columns = [x.lower() for x in pdf.columns]\n",
    "pdf.columns = pdf.columns.str.replace(' ', '_')\n",
    "\n",
    "# to only change one name\n",
    "pdf.rename(columns={'FIRST':'first_name', 'LAST':'last_name'})\n",
    "pdf.rename(columns={'FIRST':'first_name', 'LAST':'last_name'}, inplace=True)\n",
    "\n",
    "# ------\n",
    "\n",
    "# To update the rows, which is usually the thing being done and is diverse\n",
    "\n",
    "pdf.loc[2]\n",
    "pdf.loc[2] = ['John', 'Smith', 'JohnSmith@email.com']\n",
    "\n",
    "# To change less than the whole row\n",
    "pdf.loc[2, ['last', 'email']] = ['Doe', 'JohnDoe@email.com']\n",
    "\n",
    "# To change a single value.\n",
    "pdf.loc[2, 'last'] = 'Smith'\n",
    "pdf.at[2, 'last'] = 'Doe'\n",
    "\n",
    "filtr = pdf['email'] == 'JohnDoe@email.com'\n",
    "# pdf[filtr]['last'] = 'Smith'\n",
    "pdf.loc[filtr, 'last'] = 'Smith'\n",
    "\n",
    "pdf['email'] = pdf['email'].str.lower()\n",
    "\n",
    "## SERIES\n",
    "\n",
    "pdf['email'].apply(len)\n",
    "def update_email(email):\n",
    "    return email.upper()\n",
    "pdf['email'].apply(update_email)\n",
    "\n",
    "# you can also use a lambda function\n",
    "pdf['email'].apply(lambda x: x.lower())\n",
    "\n",
    "## with DATAFRAMES\n",
    "\n",
    "pdf.apply(len)\n",
    "# returns the number of entries for each series\n",
    "# you can have the same result for a series by len(pdf['col_name'])\n",
    "\n",
    "pdf.apply(len, axis='columns')\n",
    "# the number of entries for each row\n",
    "\n",
    "pdf.apply(pd.Series.min)\n",
    "pdf.apply(lambda x: x.min())\n",
    "\n",
    "# Applymap passes the values, available only on dataframes.\n",
    "pdf.applymap(len)\n",
    "pdf.applymap(str.lower)\n",
    "\n",
    "# MAP is used on series and substitute values.\n",
    "pdf['first'].map({'Corey': 'Chris', 'Jane': 'Mary' })\n",
    "pdf['first'].replace({'Corey': 'Chris', 'Jane': 'Mary' })\n"
   ]
  },
  {
   "cell_type": "markdown",
   "id": "133675c9",
   "metadata": {},
   "source": [
    "<hr style=\"border:2px solid gray\"> </hr>   \n",
    "    \n",
    "## Real-word Example"
   ]
  },
  {
   "cell_type": "code",
   "execution_count": null,
   "id": "c74badcc",
   "metadata": {},
   "outputs": [],
   "source": [
    "# These options help us to inspect our data more easily.\n",
    "pd.set_option(\"display.max_columns\", 85)\n",
    "pd.set_option(\"display.max_rows\", 85)"
   ]
  },
  {
   "cell_type": "code",
   "execution_count": null,
   "id": "322d973b",
   "metadata": {},
   "outputs": [],
   "source": [
    "# These commands load the same survey data Corey is using in his video.\n",
    "df = pd.read_csv(\"data/survey_results_public.csv\", index_col = \"Respondent\")\n",
    "schema_df = pd.read_csv(\"data/survey_results_schema.csv\", index_col = \"Column\")"
   ]
  },
  {
   "cell_type": "code",
   "execution_count": null,
   "id": "7777a794",
   "metadata": {},
   "outputs": [],
   "source": [
    "# START YOUR CODE HERE.\n",
    "\n",
    "df.rename(columns={'ConvertedComp': 'SalaryUSD'})\n",
    "df.rename(columns={'ConvertedComp': 'SalaryUSD'}, inplace=True)\n",
    "\n",
    "df['SalaryUSD']\n",
    "df['Hobbyist'].map({'Yes':'True', 'No':'False'})\n",
    "df['Hobbyist'].replace({'Yes':'True', 'No':'False'}) \n",
    "    # If the column has more than yes/no entries.\n",
    "df['Hobbyist'] = df['Hobbyist'].map({'Yes':'True', 'No':'False'})\n"
   ]
  },
  {
   "cell_type": "markdown",
   "id": "4b97ba1c",
   "metadata": {},
   "source": [
    "<hr style=\"border:2px solid gray\"> </hr>   \n",
    "   \n",
    "## Practice Tasks   "
   ]
  },
  {
   "cell_type": "code",
   "execution_count": null,
   "id": "a15892dc",
   "metadata": {},
   "outputs": [],
   "source": [
    "# Load a clean DataFrame.\n",
    "df = pd.read_csv(\"data/survey_results_public.csv\", index_col = \"Respondent\")"
   ]
  },
  {
   "cell_type": "markdown",
   "id": "76e89bef",
   "metadata": {},
   "source": [
    "#### 1. Adjust the DataFrame's column names so that every column name is lowercased. \n",
    "<br /> \n",
    "<details>    \n",
    "<summary>\n",
    "    <font size=\"3\" color=\"red\"><b>Hints (click to expand)</b></font>\n",
    "</summary>\n",
    "<p>\n",
    "    <ul>\n",
    "        <li>Make use of list comprehensions.</li>\n",
    "        <li>The lower-method converts strings to lowercasing.</li> \n",
    "    </ul>\n",
    "</p>\n",
    "</details>"
   ]
  },
  {
   "cell_type": "code",
   "execution_count": null,
   "id": "009c48ba",
   "metadata": {},
   "outputs": [],
   "source": [
    "old_columns = df.columns\n",
    "# YOUR CODE STARTS HERE.\n",
    "\n",
    "df.columns = [x.lower() for x in old_columns]\n",
    "\n",
    "#YOUR CODE ENDS HERE."
   ]
  },
  {
   "cell_type": "code",
   "execution_count": null,
   "id": "58dc0687",
   "metadata": {},
   "outputs": [],
   "source": [
    "# THIS CELL TESTS YOUR RESULTS.\n",
    "assert df.columns[0] == \"mainbranch\", \"Your lowercasing does not seem to work!\"\n",
    "assert df.columns[-1] == \"surveyease\", \"Your lowercasing does not seem to work!\""
   ]
  },
  {
   "cell_type": "markdown",
   "id": "4b255a65",
   "metadata": {},
   "source": [
    "<details>    \n",
    "<summary>\n",
    "    <font size=\"3\" color=\"darkgreen\"><b>Solution (click to expand)</b></font>\n",
    "</summary>\n",
    "<p>\n",
    "    <code>df.columns = [column.lower() for column in df.columns]</code>\n",
    "</p>\n",
    "</details>"
   ]
  },
  {
   "cell_type": "code",
   "execution_count": null,
   "id": "7230cd49",
   "metadata": {},
   "outputs": [],
   "source": [
    "# For better readability, we undo this change. We applied it just for practice reasons. \n",
    "df.columns = old_columns"
   ]
  },
  {
   "cell_type": "markdown",
   "id": "7adbc997",
   "metadata": {},
   "source": [
    "#### 2. Some column names are misleading. Rename the columns *CareerSat* and *MgrIdiot* to *CareerSatisfaction* and *ManagerAwareness*. \n",
    "<br />\n",
    "<details>    \n",
    "<summary>\n",
    "    <font size=\"3\" color=\"red\"><b>Hints (click to expand)</b></font>\n",
    "</summary>\n",
    "<p>\n",
    "    <ul>\n",
    "        <li>One can use Pandas' rename-function to rename indexes/columns.</li>\n",
    "        <li>How should you set the axis-argument inside the rename-functioncall?</li>\n",
    "        <li>How should you set the inplace-parameter inside the rename-functioncall?</li>\n",
    "    </ul>\n",
    "</p>\n",
    "</details>"
   ]
  },
  {
   "cell_type": "code",
   "execution_count": null,
   "id": "1f491ff6",
   "metadata": {},
   "outputs": [],
   "source": [
    "# START YOUR CODE HERE.\n",
    "\n",
    "df.rename(columns={'CareerSat':'CareerSatisfaction', 'MgrIdiot':'ManagerAwareness'}, inplace=True)\n",
    "\n",
    "# END YOUR CODE HERE."
   ]
  },
  {
   "cell_type": "code",
   "execution_count": null,
   "id": "32ea9934",
   "metadata": {
    "scrolled": true
   },
   "outputs": [],
   "source": [
    "# THIS CELL TESTS YOUR RESULTS.\n",
    "assert \"CareerSatisfaction\" in df.columns, \"You did not rename CareerSat correctly!\"\n",
    "assert \"ManagerAwareness\" in df.columns, \"You did not rename MgrIdiot correctly!\""
   ]
  },
  {
   "cell_type": "markdown",
   "id": "f59624ab",
   "metadata": {},
   "source": [
    "<details>    \n",
    "<summary>\n",
    "    <font size=\"3\" color=\"darkgreen\"><b>Solution (click to expand)</b></font>\n",
    "</summary>\n",
    "<p>\n",
    "    <code>df.rename({\"CareerSat\": \"CareerSatisfaction\", \"MgrIdiot\": \"ManagerAwareness\"}, axis = \"columns\", inplace = True)</code>\n",
    "</p>\n",
    "</details>   \n",
    "   \n",
    "#### 3. For comparison reasons, we want to convert the current dollar salaries to euro salaries (*CompTotal* column). At that, we assume an exchange ratio of 85%. Therefore, one dollar should equal 85 cents. \n",
    "<br />\n",
    "<details>    \n",
    "<summary>\n",
    "    <font size=\"3\" color=\"red\"><b>Hints (click to expand)</b></font>\n",
    "</summary>\n",
    "<p>\n",
    "    <ul>\n",
    "        <li>Which method should you use? Apply, applymap, or map?</li>\n",
    "        <li>To be very efficient, you might want to solve this problem by using a lambda function inside the function call.</li>\n",
    "        <li>CompTotal is of dtype float64. Therefore, arithmetics operations work as you would expect.</li> \n",
    "    </ul>\n",
    "        \n",
    "</p>\n",
    "</details>"
   ]
  },
  {
   "cell_type": "code",
   "execution_count": null,
   "id": "bb75a874",
   "metadata": {},
   "outputs": [],
   "source": [
    "# START YOUR CODE HERE.\n",
    "\n",
    "df['CompTotal'] = df[\"CompTotal\"].apply(lambda x: x*0.85)\n",
    "\n",
    "# END YOUR CODE HERE."
   ]
  },
  {
   "cell_type": "code",
   "execution_count": null,
   "id": "7667c143",
   "metadata": {},
   "outputs": [],
   "source": [
    "# THIS CELL TESTS YOUR RESULTS.\n",
    "assert df[\"CompTotal\"].loc[3] == 19550, \"Your conversion does not seem to work properly!\"\n",
    "assert df[\"CompTotal\"].loc[10] == 807500, \"Your conversion does not seem to work properly!\"\n",
    "assert df[\"CompTotal\"].loc[20] == 2550, \"Your conversion does not seem to work properly!\""
   ]
  },
  {
   "cell_type": "markdown",
   "id": "183313e3",
   "metadata": {},
   "source": [
    "<details>    \n",
    "<summary>\n",
    "    <font size=\"3\" color=\"darkgreen\"><b>Solution (click to expand)</b></font>\n",
    "</summary>\n",
    "<p>\n",
    "    <code>df[\"CompTotal\"] = df[\"CompTotal\"].apply(lambda x: x*0.85)</code>\n",
    "</p>\n",
    "</details>\n",
    "\n",
    "#### 4. In the *OpenSourcer* column, respondents were asked how often they contribute to open source projects. The answer options were: \"Never,\" \"Less than once per year,\" \"Less than once a month but more than once per year,\" and \"Once a month or more often.\" Complete the *adjust_OpenSourcer*-function so that it can be applied to the *OpenSourcer* column. The goal is for the new *OpenSourcer* column to contain False (boolean) if a respondent answered \"Never\". Otherwise, it should contain True (boolean). \n",
    "<br />\n",
    "<details>    \n",
    "<summary>\n",
    "    <font size=\"3\" color=\"red\"><b>Hints (click to expand)</b></font>\n",
    "</summary>\n",
    "<p>\n",
    "    <ul>\n",
    "        <li>One can compare two values with the ==-operator.</li>\n",
    "        <li>The original OpenSourcer column contains strings.</li>\n",
    "        <li>Remind yourself of if/else conditionals.</li>\n",
    "    </ul>\n",
    "        \n",
    "</p>\n",
    "</details>"
   ]
  },
  {
   "cell_type": "code",
   "execution_count": null,
   "id": "476e00fc",
   "metadata": {},
   "outputs": [],
   "source": [
    "def adjust_OpenSourcer(answer):\n",
    "    \n",
    "    # START YOUR CODE HERE.\n",
    "    if(answer == 'Never'):\n",
    "        return False\n",
    "    else:\n",
    "        return True\n",
    "    # END YOUR CODE HERE.\n",
    "    \n",
    "df[\"OpenSourcer\"] = df[\"OpenSourcer\"].apply(adjust_OpenSourcer)"
   ]
  },
  {
   "cell_type": "code",
   "execution_count": null,
   "id": "13ed5f3a",
   "metadata": {},
   "outputs": [],
   "source": [
    "# THIS CELL TESTS YOUR RESULTS.\n",
    "assert df[\"OpenSourcer\"].dtype == \"bool\", \"adjust_OpenSourcer shall return boolean values!\"\n",
    "assert df[\"OpenSourcer\"].iloc[0] == False, \"Your adjustment seems to be incorrect!\"\n",
    "assert df[\"OpenSourcer\"].iloc[-1] == True, \"Your adjustment seems to be incorrect!\""
   ]
  },
  {
   "cell_type": "markdown",
   "id": "e8a744eb",
   "metadata": {},
   "source": [
    "<details>    \n",
    "<summary>\n",
    "    <font size=\"3\" color=\"darkgreen\"><b>Solution (click to expand)</b></font>\n",
    "</summary>\n",
    "<p>\n",
    "    <code>def adjust_OpenSourcer(answer):</code><br />\n",
    "    <code>&nbsp;&nbsp;&nbsp;&nbsp;if answer == \"Never\":</code><br />\n",
    "    <code>&nbsp;&nbsp;&nbsp;&nbsp;&nbsp;&nbsp;&nbsp;&nbsp;return False</code><br />\n",
    "    <code>&nbsp;&nbsp;&nbsp;&nbsp;else:</code><br />\n",
    "    <code>&nbsp;&nbsp;&nbsp;&nbsp;&nbsp;&nbsp;&nbsp;&nbsp;return True</code>\n",
    "</p>\n",
    "</details>\n",
    "\n",
    "#### 5. Which method should you use if you want to adjust every value within a DataFrame?"
   ]
  },
  {
   "cell_type": "markdown",
   "id": "bb9ceb0b",
   "metadata": {},
   "source": [
    "*Your Answer* (enter by double-clicking): applymap"
   ]
  },
  {
   "cell_type": "markdown",
   "id": "c6e5c188",
   "metadata": {},
   "source": [
    "<details>    \n",
    "<summary>\n",
    "    <font size=\"3\" color=\"darkgreen\"><b>Solution (click to expand)</b></font>\n",
    "</summary>\n",
    "<p>\n",
    "    applymap\n",
    "</p>\n",
    "</details>\n",
    "\n",
    "#### 6. What is the main difference between *replace* and *map* as Series/DataFrame functions?"
   ]
  },
  {
   "cell_type": "markdown",
   "id": "b920c57e",
   "metadata": {},
   "source": [
    "*Your Answer* (enter by double-clicking): map needs all entries, while replace only replaces the specified ones."
   ]
  },
  {
   "cell_type": "markdown",
   "id": "5a274ed2",
   "metadata": {},
   "source": [
    "<details>    \n",
    "<summary>\n",
    "    <font size=\"3\" color=\"darkgreen\"><b>Solution (click to expand)</b></font>\n",
    "</summary>\n",
    "<p>\n",
    "    Map assigns NaN to each element that is not present in its mapper dictionary. Replace substitutes only the values that are present in its mapper dictionary, values that are not present remain unchanged. \n",
    "</p>\n",
    "</details>"
   ]
  }
 ],
 "metadata": {
  "kernelspec": {
   "display_name": "Python 3 (ipykernel)",
   "language": "python",
   "name": "python3"
  },
  "language_info": {
   "codemirror_mode": {
    "name": "ipython",
    "version": 3
   },
   "file_extension": ".py",
   "mimetype": "text/x-python",
   "name": "python",
   "nbconvert_exporter": "python",
   "pygments_lexer": "ipython3",
   "version": "3.12.3"
  }
 },
 "nbformat": 4,
 "nbformat_minor": 5
}
